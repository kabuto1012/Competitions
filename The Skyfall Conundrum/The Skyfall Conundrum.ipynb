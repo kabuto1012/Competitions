{
 "cells": [
  {
   "cell_type": "markdown",
   "id": "eb00582f-f4fd-4f77-ac65-498b49495001",
   "metadata": {},
   "source": [
    "#### This is our first machine learning project, and at the same time the first competition that we participated in, me and my friend Khaled.\n",
    "\n",
    "#### This is his github profile: [Khaled](https://github.com/Khaled-Saleh-KL1)\n",
    "\n",
    "#### The link of the competition: [The skyfall conundrum](https://www.kaggle.com/competitions/the-skyfall-conundrum/overview)\n",
    "\n",
    "#### Team's name: Khaled-Mohannad. Our score is **0.68642**"
   ]
  },
  {
   "cell_type": "markdown",
   "id": "9a6c6014-0291-48eb-ab24-50f74b9802f1",
   "metadata": {},
   "source": [
    "# **import packages**"
   ]
  },
  {
   "cell_type": "code",
   "execution_count": 1,
   "id": "1f5274e8-6b42-4092-9ab8-1cd339b3944d",
   "metadata": {},
   "outputs": [],
   "source": [
    "import pandas as pd\n",
    "import numpy as np\n",
    "\n",
    "import matplotlib.pyplot as plt\n",
    "import seaborn as sns\n",
    "\n",
    "from sklearn.ensemble import RandomForestClassifier # machine algorithm that I used\n",
    "\n",
    "from sklearn.model_selection import train_test_split\n",
    "from sklearn.metrics import classification_report\n",
    "from sklearn.preprocessing import OneHotEncoder\n",
    "from sklearn.preprocessing import PowerTransformer\n",
    "from sklearn.impute import KNNImputer\n",
    "from sklearn.preprocessing import LabelEncoder\n",
    "\n",
    "%matplotlib inline"
   ]
  },
  {
   "cell_type": "markdown",
   "id": "c3bdfcb2-6cd1-4470-9969-afc4049557f7",
   "metadata": {},
   "source": [
    "# **Load the datasets and explore it**"
   ]
  },
  {
   "cell_type": "code",
   "execution_count": 2,
   "id": "41eac59c-4fd0-43a7-8c10-c4fd018bbca2",
   "metadata": {},
   "outputs": [],
   "source": [
    "df_train = pd.read_csv('cryptid_database_train.csv')\n",
    "df_test = pd.read_csv('cryptid_database_test.csv')"
   ]
  },
  {
   "cell_type": "code",
   "execution_count": 3,
   "id": "8af98233-e960-4019-bb4a-1174cb96ba21",
   "metadata": {},
   "outputs": [
    {
     "data": {
      "text/html": [
       "<div>\n",
       "<style scoped>\n",
       "    .dataframe tbody tr th:only-of-type {\n",
       "        vertical-align: middle;\n",
       "    }\n",
       "\n",
       "    .dataframe tbody tr th {\n",
       "        vertical-align: top;\n",
       "    }\n",
       "\n",
       "    .dataframe thead th {\n",
       "        text-align: right;\n",
       "    }\n",
       "</style>\n",
       "<table border=\"1\" class=\"dataframe\">\n",
       "  <thead>\n",
       "    <tr style=\"text-align: right;\">\n",
       "      <th></th>\n",
       "      <th>IslandID</th>\n",
       "      <th>Island Size</th>\n",
       "      <th>Terrain Type</th>\n",
       "      <th>Vegetation Type</th>\n",
       "      <th>Distance from Mainland</th>\n",
       "      <th>Avg Temperature</th>\n",
       "      <th>Avg Humidity</th>\n",
       "      <th>Flora and Fauna Changes</th>\n",
       "      <th>Growth Patterns</th>\n",
       "      <th>Unexplain Sounds Count</th>\n",
       "      <th>Visual Anomalies</th>\n",
       "      <th>pH Change</th>\n",
       "      <th>Type</th>\n",
       "    </tr>\n",
       "  </thead>\n",
       "  <tbody>\n",
       "    <tr>\n",
       "      <th>0</th>\n",
       "      <td>712</td>\n",
       "      <td>333.060006</td>\n",
       "      <td>Forested</td>\n",
       "      <td>Mixed Forests</td>\n",
       "      <td>500.939406</td>\n",
       "      <td>2.126074</td>\n",
       "      <td>72.828342</td>\n",
       "      <td>No Effect</td>\n",
       "      <td>Normal</td>\n",
       "      <td>High</td>\n",
       "      <td>Occasional</td>\n",
       "      <td>0.146254</td>\n",
       "      <td>Sasquatch</td>\n",
       "    </tr>\n",
       "    <tr>\n",
       "      <th>1</th>\n",
       "      <td>1727</td>\n",
       "      <td>326.745276</td>\n",
       "      <td>NaN</td>\n",
       "      <td>Mangroves</td>\n",
       "      <td>NaN</td>\n",
       "      <td>31.951421</td>\n",
       "      <td>79.771927</td>\n",
       "      <td>Increasing</td>\n",
       "      <td>Normal</td>\n",
       "      <td>Moderate</td>\n",
       "      <td>NaN</td>\n",
       "      <td>0.149703</td>\n",
       "      <td>Ropen</td>\n",
       "    </tr>\n",
       "    <tr>\n",
       "      <th>2</th>\n",
       "      <td>1359</td>\n",
       "      <td>NaN</td>\n",
       "      <td>Forested</td>\n",
       "      <td>Coniferous Forests</td>\n",
       "      <td>197.242470</td>\n",
       "      <td>12.564517</td>\n",
       "      <td>79.801094</td>\n",
       "      <td>Decreasing</td>\n",
       "      <td>Normal</td>\n",
       "      <td>NaN</td>\n",
       "      <td>Frequent</td>\n",
       "      <td>-0.202983</td>\n",
       "      <td>Wendigo</td>\n",
       "    </tr>\n",
       "    <tr>\n",
       "      <th>3</th>\n",
       "      <td>591</td>\n",
       "      <td>63.474524</td>\n",
       "      <td>Mountainous</td>\n",
       "      <td>Mixed Forests</td>\n",
       "      <td>333.862902</td>\n",
       "      <td>18.202615</td>\n",
       "      <td>47.982155</td>\n",
       "      <td>No Effect</td>\n",
       "      <td>Normal</td>\n",
       "      <td>High</td>\n",
       "      <td>Frequent</td>\n",
       "      <td>0.110638</td>\n",
       "      <td>Chupacabra</td>\n",
       "    </tr>\n",
       "    <tr>\n",
       "      <th>4</th>\n",
       "      <td>724</td>\n",
       "      <td>339.410940</td>\n",
       "      <td>Forested</td>\n",
       "      <td>Coniferous Forests</td>\n",
       "      <td>411.014013</td>\n",
       "      <td>-3.367113</td>\n",
       "      <td>78.075619</td>\n",
       "      <td>Increasing</td>\n",
       "      <td>Normal</td>\n",
       "      <td>Low</td>\n",
       "      <td>Occasional</td>\n",
       "      <td>0.157301</td>\n",
       "      <td>Sasquatch</td>\n",
       "    </tr>\n",
       "  </tbody>\n",
       "</table>\n",
       "</div>"
      ],
      "text/plain": [
       "   IslandID  Island Size Terrain Type     Vegetation Type  \\\n",
       "0       712   333.060006     Forested       Mixed Forests   \n",
       "1      1727   326.745276          NaN           Mangroves   \n",
       "2      1359          NaN     Forested  Coniferous Forests   \n",
       "3       591    63.474524  Mountainous       Mixed Forests   \n",
       "4       724   339.410940     Forested  Coniferous Forests   \n",
       "\n",
       "   Distance from Mainland  Avg Temperature  Avg Humidity  \\\n",
       "0              500.939406         2.126074     72.828342   \n",
       "1                     NaN        31.951421     79.771927   \n",
       "2              197.242470        12.564517     79.801094   \n",
       "3              333.862902        18.202615     47.982155   \n",
       "4              411.014013        -3.367113     78.075619   \n",
       "\n",
       "  Flora and Fauna Changes Growth Patterns Unexplain Sounds Count  \\\n",
       "0               No Effect          Normal                   High   \n",
       "1              Increasing          Normal               Moderate   \n",
       "2              Decreasing          Normal                    NaN   \n",
       "3               No Effect          Normal                   High   \n",
       "4              Increasing          Normal                    Low   \n",
       "\n",
       "  Visual Anomalies  pH Change        Type  \n",
       "0       Occasional   0.146254   Sasquatch  \n",
       "1              NaN   0.149703       Ropen  \n",
       "2         Frequent  -0.202983     Wendigo  \n",
       "3         Frequent   0.110638  Chupacabra  \n",
       "4       Occasional   0.157301   Sasquatch  "
      ]
     },
     "execution_count": 3,
     "metadata": {},
     "output_type": "execute_result"
    }
   ],
   "source": [
    "df_train.head()"
   ]
  },
  {
   "cell_type": "code",
   "execution_count": 4,
   "id": "f14cfbb7-582e-4862-acec-19982132e5fb",
   "metadata": {},
   "outputs": [
    {
     "data": {
      "text/html": [
       "<div>\n",
       "<style scoped>\n",
       "    .dataframe tbody tr th:only-of-type {\n",
       "        vertical-align: middle;\n",
       "    }\n",
       "\n",
       "    .dataframe tbody tr th {\n",
       "        vertical-align: top;\n",
       "    }\n",
       "\n",
       "    .dataframe thead th {\n",
       "        text-align: right;\n",
       "    }\n",
       "</style>\n",
       "<table border=\"1\" class=\"dataframe\">\n",
       "  <thead>\n",
       "    <tr style=\"text-align: right;\">\n",
       "      <th></th>\n",
       "      <th>IslandID</th>\n",
       "      <th>Island Size</th>\n",
       "      <th>Terrain Type</th>\n",
       "      <th>Vegetation Type</th>\n",
       "      <th>Distance from Mainland</th>\n",
       "      <th>Avg Temperature</th>\n",
       "      <th>Avg Humidity</th>\n",
       "      <th>Flora and Fauna Changes</th>\n",
       "      <th>Growth Patterns</th>\n",
       "      <th>Unexplain Sounds Count</th>\n",
       "      <th>Visual Anomalies</th>\n",
       "      <th>pH Change</th>\n",
       "    </tr>\n",
       "  </thead>\n",
       "  <tbody>\n",
       "    <tr>\n",
       "      <th>0</th>\n",
       "      <td>482</td>\n",
       "      <td>315.169125</td>\n",
       "      <td>Forested</td>\n",
       "      <td>Deciduous Forests</td>\n",
       "      <td>234.930761</td>\n",
       "      <td>12.701562</td>\n",
       "      <td>85.707479</td>\n",
       "      <td>Increasing</td>\n",
       "      <td>Abnormal</td>\n",
       "      <td>Low</td>\n",
       "      <td>Frequent</td>\n",
       "      <td>0.001514</td>\n",
       "    </tr>\n",
       "    <tr>\n",
       "      <th>1</th>\n",
       "      <td>1507</td>\n",
       "      <td>27.178256</td>\n",
       "      <td>Urban settlements</td>\n",
       "      <td>Cultivated Land</td>\n",
       "      <td>322.505188</td>\n",
       "      <td>37.393392</td>\n",
       "      <td>57.810329</td>\n",
       "      <td>NaN</td>\n",
       "      <td>Abnormal</td>\n",
       "      <td>NaN</td>\n",
       "      <td>NaN</td>\n",
       "      <td>-0.132600</td>\n",
       "    </tr>\n",
       "    <tr>\n",
       "      <th>2</th>\n",
       "      <td>950</td>\n",
       "      <td>195.925075</td>\n",
       "      <td>Tundra</td>\n",
       "      <td>Tundra Vegetation</td>\n",
       "      <td>208.405671</td>\n",
       "      <td>-3.908834</td>\n",
       "      <td>59.765635</td>\n",
       "      <td>No Effect</td>\n",
       "      <td>Normal</td>\n",
       "      <td>Low</td>\n",
       "      <td>NaN</td>\n",
       "      <td>-0.006781</td>\n",
       "    </tr>\n",
       "    <tr>\n",
       "      <th>3</th>\n",
       "      <td>1005</td>\n",
       "      <td>187.688733</td>\n",
       "      <td>NaN</td>\n",
       "      <td>Deciduous Forests</td>\n",
       "      <td>430.930093</td>\n",
       "      <td>17.905631</td>\n",
       "      <td>NaN</td>\n",
       "      <td>Decreasing</td>\n",
       "      <td>Abnormal</td>\n",
       "      <td>Low</td>\n",
       "      <td>Frequent</td>\n",
       "      <td>-0.749830</td>\n",
       "    </tr>\n",
       "    <tr>\n",
       "      <th>4</th>\n",
       "      <td>705</td>\n",
       "      <td>186.561207</td>\n",
       "      <td>Forested</td>\n",
       "      <td>Deciduous Forests</td>\n",
       "      <td>487.502595</td>\n",
       "      <td>NaN</td>\n",
       "      <td>76.972178</td>\n",
       "      <td>Decreasing</td>\n",
       "      <td>Normal</td>\n",
       "      <td>Moderate</td>\n",
       "      <td>Frequent</td>\n",
       "      <td>-0.348837</td>\n",
       "    </tr>\n",
       "  </tbody>\n",
       "</table>\n",
       "</div>"
      ],
      "text/plain": [
       "   IslandID  Island Size       Terrain Type    Vegetation Type  \\\n",
       "0       482   315.169125           Forested  Deciduous Forests   \n",
       "1      1507    27.178256  Urban settlements    Cultivated Land   \n",
       "2       950   195.925075             Tundra  Tundra Vegetation   \n",
       "3      1005   187.688733                NaN  Deciduous Forests   \n",
       "4       705   186.561207           Forested  Deciduous Forests   \n",
       "\n",
       "   Distance from Mainland  Avg Temperature  Avg Humidity  \\\n",
       "0              234.930761        12.701562     85.707479   \n",
       "1              322.505188        37.393392     57.810329   \n",
       "2              208.405671        -3.908834     59.765635   \n",
       "3              430.930093        17.905631           NaN   \n",
       "4              487.502595              NaN     76.972178   \n",
       "\n",
       "  Flora and Fauna Changes Growth Patterns Unexplain Sounds Count  \\\n",
       "0              Increasing        Abnormal                    Low   \n",
       "1                     NaN        Abnormal                    NaN   \n",
       "2               No Effect          Normal                    Low   \n",
       "3              Decreasing        Abnormal                    Low   \n",
       "4              Decreasing          Normal               Moderate   \n",
       "\n",
       "  Visual Anomalies  pH Change  \n",
       "0         Frequent   0.001514  \n",
       "1              NaN  -0.132600  \n",
       "2              NaN  -0.006781  \n",
       "3         Frequent  -0.749830  \n",
       "4         Frequent  -0.348837  "
      ]
     },
     "execution_count": 4,
     "metadata": {},
     "output_type": "execute_result"
    }
   ],
   "source": [
    "df_test.head()"
   ]
  },
  {
   "cell_type": "code",
   "execution_count": 5,
   "id": "a607c00f-a046-4235-93aa-8e923eeb1a8a",
   "metadata": {},
   "outputs": [
    {
     "data": {
      "text/html": [
       "<div>\n",
       "<style scoped>\n",
       "    .dataframe tbody tr th:only-of-type {\n",
       "        vertical-align: middle;\n",
       "    }\n",
       "\n",
       "    .dataframe tbody tr th {\n",
       "        vertical-align: top;\n",
       "    }\n",
       "\n",
       "    .dataframe thead th {\n",
       "        text-align: right;\n",
       "    }\n",
       "</style>\n",
       "<table border=\"1\" class=\"dataframe\">\n",
       "  <thead>\n",
       "    <tr style=\"text-align: right;\">\n",
       "      <th></th>\n",
       "      <th>IslandID</th>\n",
       "      <th>Type</th>\n",
       "    </tr>\n",
       "  </thead>\n",
       "  <tbody>\n",
       "    <tr>\n",
       "      <th>0</th>\n",
       "      <td>482</td>\n",
       "      <td>Wendigo</td>\n",
       "    </tr>\n",
       "    <tr>\n",
       "      <th>1</th>\n",
       "      <td>1507</td>\n",
       "      <td>Sasquatch</td>\n",
       "    </tr>\n",
       "    <tr>\n",
       "      <th>2</th>\n",
       "      <td>950</td>\n",
       "      <td>Sasquatch</td>\n",
       "    </tr>\n",
       "    <tr>\n",
       "      <th>3</th>\n",
       "      <td>1005</td>\n",
       "      <td>Mothman</td>\n",
       "    </tr>\n",
       "    <tr>\n",
       "      <th>4</th>\n",
       "      <td>705</td>\n",
       "      <td>Thunderbird</td>\n",
       "    </tr>\n",
       "  </tbody>\n",
       "</table>\n",
       "</div>"
      ],
      "text/plain": [
       "   IslandID         Type\n",
       "0       482      Wendigo\n",
       "1      1507    Sasquatch\n",
       "2       950    Sasquatch\n",
       "3      1005      Mothman\n",
       "4       705  Thunderbird"
      ]
     },
     "execution_count": 5,
     "metadata": {},
     "output_type": "execute_result"
    }
   ],
   "source": [
    "#This is how my output should be just remove the type column with the prediction column\n",
    "df_submission = pd.read_csv('sample_submission.csv')\n",
    "df_submission.head()"
   ]
  },
  {
   "cell_type": "code",
   "execution_count": 6,
   "id": "6fe327e4-43c7-4e07-8d9d-0160b30b0b0f",
   "metadata": {},
   "outputs": [
    {
     "name": "stdout",
     "output_type": "stream",
     "text": [
      "<class 'pandas.core.frame.DataFrame'>\n",
      "RangeIndex: 1219 entries, 0 to 1218\n",
      "Data columns (total 13 columns):\n",
      " #   Column                   Non-Null Count  Dtype  \n",
      "---  ------                   --------------  -----  \n",
      " 0   IslandID                 1219 non-null   int64  \n",
      " 1   Island Size              1073 non-null   float64\n",
      " 2   Terrain Type             1071 non-null   object \n",
      " 3   Vegetation Type          1106 non-null   object \n",
      " 4   Distance from Mainland   992 non-null    float64\n",
      " 5   Avg Temperature          1121 non-null   float64\n",
      " 6   Avg Humidity             1098 non-null   float64\n",
      " 7   Flora and Fauna Changes  1033 non-null   object \n",
      " 8   Growth Patterns          1097 non-null   object \n",
      " 9   Unexplain Sounds Count   934 non-null    object \n",
      " 10  Visual Anomalies         751 non-null    object \n",
      " 11  pH Change                971 non-null    float64\n",
      " 12  Type                     1219 non-null   object \n",
      "dtypes: float64(5), int64(1), object(7)\n",
      "memory usage: 123.9+ KB\n"
     ]
    }
   ],
   "source": [
    "df_train.info()"
   ]
  },
  {
   "cell_type": "code",
   "execution_count": 7,
   "id": "4f8fe48d-a531-4cba-8ba7-f5172b4bda7b",
   "metadata": {},
   "outputs": [
    {
     "name": "stdout",
     "output_type": "stream",
     "text": [
      "<class 'pandas.core.frame.DataFrame'>\n",
      "RangeIndex: 523 entries, 0 to 522\n",
      "Data columns (total 12 columns):\n",
      " #   Column                   Non-Null Count  Dtype  \n",
      "---  ------                   --------------  -----  \n",
      " 0   IslandID                 523 non-null    int64  \n",
      " 1   Island Size              443 non-null    float64\n",
      " 2   Terrain Type             462 non-null    object \n",
      " 3   Vegetation Type          479 non-null    object \n",
      " 4   Distance from Mainland   419 non-null    float64\n",
      " 5   Avg Temperature          482 non-null    float64\n",
      " 6   Avg Humidity             475 non-null    float64\n",
      " 7   Flora and Fauna Changes  448 non-null    object \n",
      " 8   Growth Patterns          471 non-null    object \n",
      " 9   Unexplain Sounds Count   400 non-null    object \n",
      " 10  Visual Anomalies         309 non-null    object \n",
      " 11  pH Change                423 non-null    float64\n",
      "dtypes: float64(5), int64(1), object(6)\n",
      "memory usage: 49.2+ KB\n"
     ]
    }
   ],
   "source": [
    "df_test.info()"
   ]
  },
  {
   "cell_type": "code",
   "execution_count": 8,
   "id": "251301fd-10c9-4b13-a26d-7eaffea07366",
   "metadata": {},
   "outputs": [
    {
     "data": {
      "text/plain": [
       "IslandID                     0\n",
       "Island Size                146\n",
       "Terrain Type               148\n",
       "Vegetation Type            113\n",
       "Distance from Mainland     227\n",
       "Avg Temperature             98\n",
       "Avg Humidity               121\n",
       "Flora and Fauna Changes    186\n",
       "Growth Patterns            122\n",
       "Unexplain Sounds Count     285\n",
       "Visual Anomalies           468\n",
       "pH Change                  248\n",
       "Type                         0\n",
       "dtype: int64"
      ]
     },
     "execution_count": 8,
     "metadata": {},
     "output_type": "execute_result"
    }
   ],
   "source": [
    "df_train.isnull().sum()"
   ]
  },
  {
   "cell_type": "code",
   "execution_count": 9,
   "id": "af8d57fe-b6f7-4b66-9bbd-a0b09d749845",
   "metadata": {},
   "outputs": [
    {
     "data": {
      "text/plain": [
       "IslandID                     0\n",
       "Island Size                 80\n",
       "Terrain Type                61\n",
       "Vegetation Type             44\n",
       "Distance from Mainland     104\n",
       "Avg Temperature             41\n",
       "Avg Humidity                48\n",
       "Flora and Fauna Changes     75\n",
       "Growth Patterns             52\n",
       "Unexplain Sounds Count     123\n",
       "Visual Anomalies           214\n",
       "pH Change                  100\n",
       "dtype: int64"
      ]
     },
     "execution_count": 9,
     "metadata": {},
     "output_type": "execute_result"
    }
   ],
   "source": [
    "df_test.isnull().sum()"
   ]
  },
  {
   "cell_type": "code",
   "execution_count": 10,
   "id": "f0b3cddc-1757-46b7-9299-9e1e4e8aef9d",
   "metadata": {},
   "outputs": [
    {
     "data": {
      "text/html": [
       "<div>\n",
       "<style scoped>\n",
       "    .dataframe tbody tr th:only-of-type {\n",
       "        vertical-align: middle;\n",
       "    }\n",
       "\n",
       "    .dataframe tbody tr th {\n",
       "        vertical-align: top;\n",
       "    }\n",
       "\n",
       "    .dataframe thead th {\n",
       "        text-align: right;\n",
       "    }\n",
       "</style>\n",
       "<table border=\"1\" class=\"dataframe\">\n",
       "  <thead>\n",
       "    <tr style=\"text-align: right;\">\n",
       "      <th></th>\n",
       "      <th>IslandID</th>\n",
       "      <th>Island Size</th>\n",
       "      <th>Distance from Mainland</th>\n",
       "      <th>Avg Temperature</th>\n",
       "      <th>Avg Humidity</th>\n",
       "      <th>pH Change</th>\n",
       "    </tr>\n",
       "  </thead>\n",
       "  <tbody>\n",
       "    <tr>\n",
       "      <th>count</th>\n",
       "      <td>1219.000000</td>\n",
       "      <td>1073.000000</td>\n",
       "      <td>992.000000</td>\n",
       "      <td>1121.000000</td>\n",
       "      <td>1098.000000</td>\n",
       "      <td>971.000000</td>\n",
       "    </tr>\n",
       "    <tr>\n",
       "      <th>mean</th>\n",
       "      <td>868.639048</td>\n",
       "      <td>180.886850</td>\n",
       "      <td>311.120381</td>\n",
       "      <td>14.164876</td>\n",
       "      <td>65.466987</td>\n",
       "      <td>-0.044618</td>\n",
       "    </tr>\n",
       "    <tr>\n",
       "      <th>std</th>\n",
       "      <td>506.564214</td>\n",
       "      <td>107.404556</td>\n",
       "      <td>146.526884</td>\n",
       "      <td>9.787656</td>\n",
       "      <td>16.920856</td>\n",
       "      <td>0.284886</td>\n",
       "    </tr>\n",
       "    <tr>\n",
       "      <th>min</th>\n",
       "      <td>0.000000</td>\n",
       "      <td>5.156844</td>\n",
       "      <td>29.113240</td>\n",
       "      <td>-13.164267</td>\n",
       "      <td>0.000000</td>\n",
       "      <td>-1.082992</td>\n",
       "    </tr>\n",
       "    <tr>\n",
       "      <th>25%</th>\n",
       "      <td>432.500000</td>\n",
       "      <td>62.479234</td>\n",
       "      <td>195.444813</td>\n",
       "      <td>7.863346</td>\n",
       "      <td>57.721108</td>\n",
       "      <td>-0.221935</td>\n",
       "    </tr>\n",
       "    <tr>\n",
       "      <th>50%</th>\n",
       "      <td>873.000000</td>\n",
       "      <td>195.618155</td>\n",
       "      <td>294.819004</td>\n",
       "      <td>13.837993</td>\n",
       "      <td>68.392506</td>\n",
       "      <td>0.049323</td>\n",
       "    </tr>\n",
       "    <tr>\n",
       "      <th>75%</th>\n",
       "      <td>1308.000000</td>\n",
       "      <td>265.388173</td>\n",
       "      <td>409.028758</td>\n",
       "      <td>20.134942</td>\n",
       "      <td>77.045792</td>\n",
       "      <td>0.130363</td>\n",
       "    </tr>\n",
       "    <tr>\n",
       "      <th>max</th>\n",
       "      <td>1741.000000</td>\n",
       "      <td>450.517276</td>\n",
       "      <td>726.067858</td>\n",
       "      <td>50.266460</td>\n",
       "      <td>99.700926</td>\n",
       "      <td>0.702001</td>\n",
       "    </tr>\n",
       "  </tbody>\n",
       "</table>\n",
       "</div>"
      ],
      "text/plain": [
       "          IslandID  Island Size  Distance from Mainland  Avg Temperature  \\\n",
       "count  1219.000000  1073.000000              992.000000      1121.000000   \n",
       "mean    868.639048   180.886850              311.120381        14.164876   \n",
       "std     506.564214   107.404556              146.526884         9.787656   \n",
       "min       0.000000     5.156844               29.113240       -13.164267   \n",
       "25%     432.500000    62.479234              195.444813         7.863346   \n",
       "50%     873.000000   195.618155              294.819004        13.837993   \n",
       "75%    1308.000000   265.388173              409.028758        20.134942   \n",
       "max    1741.000000   450.517276              726.067858        50.266460   \n",
       "\n",
       "       Avg Humidity   pH Change  \n",
       "count   1098.000000  971.000000  \n",
       "mean      65.466987   -0.044618  \n",
       "std       16.920856    0.284886  \n",
       "min        0.000000   -1.082992  \n",
       "25%       57.721108   -0.221935  \n",
       "50%       68.392506    0.049323  \n",
       "75%       77.045792    0.130363  \n",
       "max       99.700926    0.702001  "
      ]
     },
     "execution_count": 10,
     "metadata": {},
     "output_type": "execute_result"
    }
   ],
   "source": [
    "df_train.describe()"
   ]
  },
  {
   "cell_type": "code",
   "execution_count": 11,
   "id": "379224cb-a38a-4bfe-a5e3-ac48fab51879",
   "metadata": {},
   "outputs": [
    {
     "data": {
      "text/html": [
       "<div>\n",
       "<style scoped>\n",
       "    .dataframe tbody tr th:only-of-type {\n",
       "        vertical-align: middle;\n",
       "    }\n",
       "\n",
       "    .dataframe tbody tr th {\n",
       "        vertical-align: top;\n",
       "    }\n",
       "\n",
       "    .dataframe thead th {\n",
       "        text-align: right;\n",
       "    }\n",
       "</style>\n",
       "<table border=\"1\" class=\"dataframe\">\n",
       "  <thead>\n",
       "    <tr style=\"text-align: right;\">\n",
       "      <th></th>\n",
       "      <th>IslandID</th>\n",
       "      <th>Island Size</th>\n",
       "      <th>Distance from Mainland</th>\n",
       "      <th>Avg Temperature</th>\n",
       "      <th>Avg Humidity</th>\n",
       "      <th>pH Change</th>\n",
       "    </tr>\n",
       "  </thead>\n",
       "  <tbody>\n",
       "    <tr>\n",
       "      <th>count</th>\n",
       "      <td>523.000000</td>\n",
       "      <td>443.000000</td>\n",
       "      <td>419.000000</td>\n",
       "      <td>482.000000</td>\n",
       "      <td>475.000000</td>\n",
       "      <td>423.000000</td>\n",
       "    </tr>\n",
       "    <tr>\n",
       "      <th>mean</th>\n",
       "      <td>874.837476</td>\n",
       "      <td>172.281650</td>\n",
       "      <td>301.517255</td>\n",
       "      <td>13.825094</td>\n",
       "      <td>66.540110</td>\n",
       "      <td>-0.050269</td>\n",
       "    </tr>\n",
       "    <tr>\n",
       "      <th>std</th>\n",
       "      <td>495.101753</td>\n",
       "      <td>108.044631</td>\n",
       "      <td>139.824932</td>\n",
       "      <td>9.778091</td>\n",
       "      <td>15.815735</td>\n",
       "      <td>0.297474</td>\n",
       "    </tr>\n",
       "    <tr>\n",
       "      <th>min</th>\n",
       "      <td>15.000000</td>\n",
       "      <td>0.146902</td>\n",
       "      <td>39.244497</td>\n",
       "      <td>-16.245950</td>\n",
       "      <td>10.040232</td>\n",
       "      <td>-1.257222</td>\n",
       "    </tr>\n",
       "    <tr>\n",
       "      <th>25%</th>\n",
       "      <td>444.500000</td>\n",
       "      <td>52.046019</td>\n",
       "      <td>190.413694</td>\n",
       "      <td>7.791041</td>\n",
       "      <td>57.695135</td>\n",
       "      <td>-0.227838</td>\n",
       "    </tr>\n",
       "    <tr>\n",
       "      <th>50%</th>\n",
       "      <td>859.000000</td>\n",
       "      <td>194.211709</td>\n",
       "      <td>279.782303</td>\n",
       "      <td>13.628949</td>\n",
       "      <td>69.334571</td>\n",
       "      <td>0.049509</td>\n",
       "    </tr>\n",
       "    <tr>\n",
       "      <th>75%</th>\n",
       "      <td>1296.000000</td>\n",
       "      <td>254.799638</td>\n",
       "      <td>402.985454</td>\n",
       "      <td>19.275790</td>\n",
       "      <td>77.935847</td>\n",
       "      <td>0.148426</td>\n",
       "    </tr>\n",
       "    <tr>\n",
       "      <th>max</th>\n",
       "      <td>1740.000000</td>\n",
       "      <td>419.026722</td>\n",
       "      <td>698.205837</td>\n",
       "      <td>50.703337</td>\n",
       "      <td>96.519098</td>\n",
       "      <td>0.652699</td>\n",
       "    </tr>\n",
       "  </tbody>\n",
       "</table>\n",
       "</div>"
      ],
      "text/plain": [
       "          IslandID  Island Size  Distance from Mainland  Avg Temperature  \\\n",
       "count   523.000000   443.000000              419.000000       482.000000   \n",
       "mean    874.837476   172.281650              301.517255        13.825094   \n",
       "std     495.101753   108.044631              139.824932         9.778091   \n",
       "min      15.000000     0.146902               39.244497       -16.245950   \n",
       "25%     444.500000    52.046019              190.413694         7.791041   \n",
       "50%     859.000000   194.211709              279.782303        13.628949   \n",
       "75%    1296.000000   254.799638              402.985454        19.275790   \n",
       "max    1740.000000   419.026722              698.205837        50.703337   \n",
       "\n",
       "       Avg Humidity   pH Change  \n",
       "count    475.000000  423.000000  \n",
       "mean      66.540110   -0.050269  \n",
       "std       15.815735    0.297474  \n",
       "min       10.040232   -1.257222  \n",
       "25%       57.695135   -0.227838  \n",
       "50%       69.334571    0.049509  \n",
       "75%       77.935847    0.148426  \n",
       "max       96.519098    0.652699  "
      ]
     },
     "execution_count": 11,
     "metadata": {},
     "output_type": "execute_result"
    }
   ],
   "source": [
    "df_test.describe()"
   ]
  },
  {
   "cell_type": "markdown",
   "id": "05acd158-58ce-452f-b5e4-f26ae972e902",
   "metadata": {},
   "source": [
    "### Let's try to do some plots to see what to do."
   ]
  },
  {
   "cell_type": "code",
   "execution_count": 12,
   "id": "11101490-d2e3-48a9-a76f-2907b33db105",
   "metadata": {},
   "outputs": [
    {
     "data": {
      "image/png": "[encoded data removed]",
      "text/plain": [
       "<Figure size 300x300 with 1 Axes>"
      ]
     },
     "metadata": {},
     "output_type": "display_data"
    }
   ],
   "source": [
    "import warnings\n",
    "warnings.filterwarnings(\"ignore\", \"use_inf_as_na\")\n",
    "\n",
    "sns.displot(df_train['Island Size'], kind='hist', kde=True, height=3)\n",
    "plt.show()\n",
    "# Here I can't say that I should use mean because the shape is not bell-shape. Also, I can't say let's\n",
    "# use the median because the shape is not left or right skewed so I'll try to use KNN.\n",
    "# It finds the k closest observations to the one with the missing value and takes the\n",
    "# average of their values to fill in the gap."
   ]
  },
  {
   "cell_type": "code",
   "execution_count": 13,
   "id": "85886034-a398-404c-be69-3a4b20ae84c4",
   "metadata": {},
   "outputs": [
    {
     "data": {
      "image/png": "[encoded data removed]",
      "text/plain": [
       "<Figure size 300x300 with 1 Axes>"
      ]
     },
     "metadata": {},
     "output_type": "display_data"
    }
   ],
   "source": [
    "import warnings\n",
    "warnings.filterwarnings(\"ignore\", \"use_inf_as_na\")\n",
    "\n",
    "sns.displot(df_train['Distance from Mainland'], kind='hist', kde=True, height=3)\n",
    "plt.show()\n",
    "# This is right-skewed so use median to handle the missing data"
   ]
  },
  {
   "cell_type": "code",
   "execution_count": 14,
   "id": "d6cd29bf-281e-4c6c-b62b-23d6b76a2fe7",
   "metadata": {},
   "outputs": [
    {
     "data": {
      "image/png": "[encoded data removed]",
      "text/plain": [
       "<Figure size 300x300 with 1 Axes>"
      ]
     },
     "metadata": {},
     "output_type": "display_data"
    }
   ],
   "source": [
    "import warnings\n",
    "warnings.filterwarnings(\"ignore\", \"use_inf_as_na\")\n",
    "\n",
    "sns.displot(df_train['Avg Temperature'], kind='hist', kde=True, height=3)\n",
    "plt.show()\n",
    "# This is bell-shape so use mean to handle the missing data"
   ]
  },
  {
   "cell_type": "code",
   "execution_count": 15,
   "id": "27c8362a-ac6d-41bf-b257-021c6802b8ed",
   "metadata": {},
   "outputs": [
    {
     "data": {
      "image/png": "[encoded data removed]",
      "text/plain": [
       "<Figure size 300x300 with 1 Axes>"
      ]
     },
     "metadata": {},
     "output_type": "display_data"
    }
   ],
   "source": [
    "import warnings\n",
    "warnings.filterwarnings(\"ignore\", \"use_inf_as_na\")\n",
    "\n",
    "sns.displot(df_train['Avg Humidity'], kind='hist', kde=True, height=3)\n",
    "plt.show()\n",
    "# This is left-skewed so use median to handle the missing data"
   ]
  },
  {
   "cell_type": "code",
   "execution_count": 16,
   "id": "bf27c93d-202a-4f5e-82c7-3b71b0e3ea23",
   "metadata": {},
   "outputs": [
    {
     "data": {
      "image/png": "[encoded data removed]",
      "text/plain": [
       "<Figure size 300x300 with 1 Axes>"
      ]
     },
     "metadata": {},
     "output_type": "display_data"
    }
   ],
   "source": [
    "import warnings\n",
    "warnings.filterwarnings(\"ignore\", \"use_inf_as_na\")\n",
    "\n",
    "sns.displot(df_train['pH Change'], kind='hist', kde=True, height=3)\n",
    "plt.show()\n",
    "# This is left skewed so use median to handle the missing data"
   ]
  },
  {
   "cell_type": "code",
   "execution_count": 17,
   "id": "9b9f4cef-7b97-449c-8a33-a6e48e5c600a",
   "metadata": {},
   "outputs": [
    {
     "data": {
      "image/png": "[encoded data removed]",
      "text/plain": [
       "<Figure size 1100x300 with 1 Axes>"
      ]
     },
     "metadata": {},
     "output_type": "display_data"
    }
   ],
   "source": [
    "plt.figure(figsize=(11,3))\n",
    "sns.countplot(df_train, x=df_train['Type'])\n",
    "plt.grid()\n",
    "plt.show()\n",
    "# The data is somehow balanced.I'll try to fill the numeric data depending on the types."
   ]
  },
  {
   "cell_type": "markdown",
   "id": "b6c0cc68-b2c7-4a30-b676-10867b2a5010",
   "metadata": {},
   "source": [
    "# **Cleaning the training data**"
   ]
  },
  {
   "cell_type": "code",
   "execution_count": 18,
   "id": "d796673b-74eb-4752-ac14-39d1c920519c",
   "metadata": {},
   "outputs": [],
   "source": [
    "df_train = df_train.drop('IslandID', axis=1)"
   ]
  },
  {
   "cell_type": "code",
   "execution_count": 19,
   "id": "b16a592e-3831-4761-9273-4b5b2199585a",
   "metadata": {},
   "outputs": [
    {
     "data": {
      "text/html": [
       "<div>\n",
       "<style scoped>\n",
       "    .dataframe tbody tr th:only-of-type {\n",
       "        vertical-align: middle;\n",
       "    }\n",
       "\n",
       "    .dataframe tbody tr th {\n",
       "        vertical-align: top;\n",
       "    }\n",
       "\n",
       "    .dataframe thead th {\n",
       "        text-align: right;\n",
       "    }\n",
       "</style>\n",
       "<table border=\"1\" class=\"dataframe\">\n",
       "  <thead>\n",
       "    <tr style=\"text-align: right;\">\n",
       "      <th></th>\n",
       "      <th>Island Size</th>\n",
       "      <th>Terrain Type</th>\n",
       "      <th>Vegetation Type</th>\n",
       "      <th>Distance from Mainland</th>\n",
       "      <th>Avg Temperature</th>\n",
       "      <th>Avg Humidity</th>\n",
       "      <th>Flora and Fauna Changes</th>\n",
       "      <th>Growth Patterns</th>\n",
       "      <th>Unexplain Sounds Count</th>\n",
       "      <th>Visual Anomalies</th>\n",
       "      <th>pH Change</th>\n",
       "      <th>Type</th>\n",
       "    </tr>\n",
       "  </thead>\n",
       "  <tbody>\n",
       "    <tr>\n",
       "      <th>0</th>\n",
       "      <td>333.060006</td>\n",
       "      <td>Forested</td>\n",
       "      <td>Mixed Forests</td>\n",
       "      <td>500.939406</td>\n",
       "      <td>2.126074</td>\n",
       "      <td>72.828342</td>\n",
       "      <td>No Effect</td>\n",
       "      <td>Normal</td>\n",
       "      <td>High</td>\n",
       "      <td>Occasional</td>\n",
       "      <td>0.146254</td>\n",
       "      <td>Sasquatch</td>\n",
       "    </tr>\n",
       "    <tr>\n",
       "      <th>1</th>\n",
       "      <td>326.745276</td>\n",
       "      <td>NaN</td>\n",
       "      <td>Mangroves</td>\n",
       "      <td>NaN</td>\n",
       "      <td>31.951421</td>\n",
       "      <td>79.771927</td>\n",
       "      <td>Increasing</td>\n",
       "      <td>Normal</td>\n",
       "      <td>Moderate</td>\n",
       "      <td>NaN</td>\n",
       "      <td>0.149703</td>\n",
       "      <td>Ropen</td>\n",
       "    </tr>\n",
       "    <tr>\n",
       "      <th>2</th>\n",
       "      <td>NaN</td>\n",
       "      <td>Forested</td>\n",
       "      <td>Coniferous Forests</td>\n",
       "      <td>197.242470</td>\n",
       "      <td>12.564517</td>\n",
       "      <td>79.801094</td>\n",
       "      <td>Decreasing</td>\n",
       "      <td>Normal</td>\n",
       "      <td>NaN</td>\n",
       "      <td>Frequent</td>\n",
       "      <td>-0.202983</td>\n",
       "      <td>Wendigo</td>\n",
       "    </tr>\n",
       "  </tbody>\n",
       "</table>\n",
       "</div>"
      ],
      "text/plain": [
       "   Island Size Terrain Type     Vegetation Type  Distance from Mainland  \\\n",
       "0   333.060006     Forested       Mixed Forests              500.939406   \n",
       "1   326.745276          NaN           Mangroves                     NaN   \n",
       "2          NaN     Forested  Coniferous Forests              197.242470   \n",
       "\n",
       "   Avg Temperature  Avg Humidity Flora and Fauna Changes Growth Patterns  \\\n",
       "0         2.126074     72.828342               No Effect          Normal   \n",
       "1        31.951421     79.771927              Increasing          Normal   \n",
       "2        12.564517     79.801094              Decreasing          Normal   \n",
       "\n",
       "  Unexplain Sounds Count Visual Anomalies  pH Change       Type  \n",
       "0                   High       Occasional   0.146254  Sasquatch  \n",
       "1               Moderate              NaN   0.149703      Ropen  \n",
       "2                    NaN         Frequent  -0.202983    Wendigo  "
      ]
     },
     "execution_count": 19,
     "metadata": {},
     "output_type": "execute_result"
    }
   ],
   "source": [
    "df_train.head(3)"
   ]
  },
  {
   "cell_type": "code",
   "execution_count": 20,
   "id": "09310063-9480-43f9-bcfb-9dc80dada055",
   "metadata": {},
   "outputs": [
    {
     "data": {
      "text/plain": [
       "Island Size                146\n",
       "Terrain Type               148\n",
       "Vegetation Type            113\n",
       "Distance from Mainland     227\n",
       "Avg Temperature             98\n",
       "Avg Humidity               121\n",
       "Flora and Fauna Changes    186\n",
       "Growth Patterns            122\n",
       "Unexplain Sounds Count     285\n",
       "Visual Anomalies           468\n",
       "pH Change                  248\n",
       "Type                         0\n",
       "dtype: int64"
      ]
     },
     "execution_count": 20,
     "metadata": {},
     "output_type": "execute_result"
    }
   ],
   "source": [
    "df_train.isnull().sum()"
   ]
  },
  {
   "cell_type": "markdown",
   "id": "fb921a72-91ac-40e4-985e-787730552ca0",
   "metadata": {},
   "source": [
    "**KNN in the `Island Size` (numeric) depending on the plot above**"
   ]
  },
  {
   "cell_type": "code",
   "execution_count": 21,
   "id": "b725d15c-67da-4c47-89ba-47a4cf863bf1",
   "metadata": {},
   "outputs": [],
   "source": [
    "knn = KNNImputer(n_neighbors=3)\n",
    "knn.fit(df_train['Island Size'].values.reshape(-1,1))\n",
    "df_train['Island Size'] = knn.transform(df_train['Island Size'].values.\\\n",
    "                                  reshape(-1,1)).ravel()"
   ]
  },
  {
   "cell_type": "markdown",
   "id": "5f333ecc-9926-49cc-af73-37cded583845",
   "metadata": {},
   "source": [
    "#### **Depending on the plots above**\n",
    "\n",
    "**`Distance from Mainland` use --*median*-- and fill the nan values**\n",
    "\n",
    "**`Avg Temperature` use --*mean*-- and fill the nan values**\n",
    "\n",
    "**`Avg Humidity` use --*median*-- and fill the nan values**\n",
    "\n",
    "**`pH Change` use --*median*-- and fill the nan values**"
   ]
  },
  {
   "cell_type": "markdown",
   "id": "44ea0e9b-2695-4404-910a-9ce6e1e7b3bc",
   "metadata": {},
   "source": [
    "## I will fill the nan values in the `Distance from Mainland` with the median of the column but each Type seperately"
   ]
  },
  {
   "cell_type": "code",
   "execution_count": 22,
   "id": "64d0ddc9-9578-4c16-802f-39a60cd94095",
   "metadata": {},
   "outputs": [
    {
     "data": {
      "text/plain": [
       "Type\n",
       "Banshee         353.134170\n",
       "Chupacabra      295.074621\n",
       "Jersey Devil    256.893676\n",
       "Mothman         285.594491\n",
       "Ropen           261.172187\n",
       "Sasquatch       311.827532\n",
       "Thunderbird     268.862876\n",
       "Wendigo         303.704243\n",
       "Yeti            329.962863\n",
       "Name: Distance from Mainland, dtype: float64"
      ]
     },
     "execution_count": 22,
     "metadata": {},
     "output_type": "execute_result"
    }
   ],
   "source": [
    "df_train.groupby('Type')['Distance from Mainland'].median()"
   ]
  },
  {
   "cell_type": "code",
   "execution_count": 23,
   "id": "2303b786-89c3-4660-a68f-6876a3d1c97e",
   "metadata": {},
   "outputs": [],
   "source": [
    "Distance_median = df_train.groupby('Type').get_group('Banshee')['Distance from Mainland'].median()\n",
    "\n",
    "df_train.loc[df_train['Type'] == 'Banshee', 'Distance from Mainland'] =\\\n",
    "df_train.groupby('Type').get_group('Banshee')['Distance from Mainland'].fillna(Distance_median)\n",
    "#------------------------------------------------------------------------------------------------\n",
    "Distance_median = df_train.groupby('Type').get_group('Chupacabra')['Distance from Mainland'].median()\n",
    "\n",
    "df_train.loc[df_train['Type'] == 'Chupacabra', 'Distance from Mainland'] =\\\n",
    "df_train.groupby('Type').get_group('Chupacabra')['Distance from Mainland'].fillna(Distance_median)\n",
    "#------------------------------------------------------------------------------------------------\n",
    "Distance_median = df_train.groupby('Type').get_group('Jersey Devil')['Distance from Mainland'].median()\n",
    "\n",
    "df_train.loc[df_train['Type'] == 'Jersey Devil', 'Distance from Mainland'] =\\\n",
    "df_train.groupby('Type').get_group('Jersey Devil')['Distance from Mainland'].fillna(Distance_median)\n",
    "#------------------------------------------------------------------------------------------------\n",
    "Distance_median = df_train.groupby('Type').get_group('Mothman')['Distance from Mainland'].median()\n",
    "\n",
    "df_train.loc[df_train['Type'] == 'Mothman', 'Distance from Mainland'] =\\\n",
    "df_train.groupby('Type').get_group('Mothman')['Distance from Mainland'].fillna(Distance_median)\n",
    "#------------------------------------------------------------------------------------------------\n",
    "Distance_median = df_train.groupby('Type').get_group('Ropen')['Distance from Mainland'].median()\n",
    "\n",
    "df_train.loc[df_train['Type'] == 'Ropen', 'Distance from Mainland'] =\\\n",
    "df_train.groupby('Type').get_group('Ropen')['Distance from Mainland'].fillna(Distance_median)\n",
    "#------------------------------------------------------------------------------------------------\n",
    "Distance_median = df_train.groupby('Type').get_group('Sasquatch')['Distance from Mainland'].median()\n",
    "\n",
    "df_train.loc[df_train['Type'] == 'Sasquatch', 'Distance from Mainland'] =\\\n",
    "df_train.groupby('Type').get_group('Sasquatch')['Distance from Mainland'].fillna(Distance_median)\n",
    "#------------------------------------------------------------------------------------------------\n",
    "Distance_median = df_train.groupby('Type').get_group('Thunderbird')['Distance from Mainland'].median()\n",
    "\n",
    "df_train.loc[df_train['Type'] == 'Thunderbird', 'Distance from Mainland'] =\\\n",
    "df_train.groupby('Type').get_group('Thunderbird')['Distance from Mainland'].fillna(Distance_median)\n",
    "#------------------------------------------------------------------------------------------------\n",
    "Distance_median = df_train.groupby('Type').get_group('Wendigo')['Distance from Mainland'].median()\n",
    "\n",
    "df_train.loc[df_train['Type'] == 'Wendigo', 'Distance from Mainland'] =\\\n",
    "df_train.groupby('Type').get_group('Wendigo')['Distance from Mainland'].fillna(Distance_median)\n",
    "#------------------------------------------------------------------------------------------------\n",
    "Distance_median = df_train.groupby('Type').get_group('Yeti')['Distance from Mainland'].median()\n",
    "\n",
    "df_train.loc[df_train['Type'] == 'Yeti', 'Distance from Mainland'] =\\\n",
    "df_train.groupby('Type').get_group('Yeti')['Distance from Mainland'].fillna(Distance_median)"
   ]
  },
  {
   "cell_type": "markdown",
   "id": "bb137a4a-6ced-4b89-8016-c1429a20bd0f",
   "metadata": {},
   "source": [
    "## I will fill the nan values in the `Avg Temperature` with the mean of the column but each Type seperately"
   ]
  },
  {
   "cell_type": "code",
   "execution_count": 24,
   "id": "d5b96202-8798-4e5f-9e60-1fb7007d0afa",
   "metadata": {},
   "outputs": [
    {
     "data": {
      "text/plain": [
       "Type\n",
       "Banshee         16.899348\n",
       "Chupacabra      20.489720\n",
       "Jersey Devil    16.958992\n",
       "Mothman         18.573970\n",
       "Ropen           13.588536\n",
       "Sasquatch       10.800995\n",
       "Thunderbird     14.763035\n",
       "Wendigo         10.366102\n",
       "Yeti             5.394208\n",
       "Name: Avg Temperature, dtype: float64"
      ]
     },
     "execution_count": 24,
     "metadata": {},
     "output_type": "execute_result"
    }
   ],
   "source": [
    "df_train.groupby('Type')['Avg Temperature'].mean()"
   ]
  },
  {
   "cell_type": "code",
   "execution_count": 25,
   "id": "0978f094-0826-46a4-9d95-b2c0e58e06d3",
   "metadata": {},
   "outputs": [],
   "source": [
    "Temperature_mean = df_train.groupby('Type').get_group('Banshee')['Avg Temperature'].mean()\n",
    "\n",
    "df_train.loc[df_train['Type'] == 'Banshee', 'Avg Temperature'] =\\\n",
    "df_train.groupby('Type').get_group('Banshee')['Avg Temperature'].fillna(Temperature_mean)\n",
    "#------------------------------------------------------------------------------------------------\n",
    "Temperature_mean = df_train.groupby('Type').get_group('Chupacabra')['Avg Temperature'].mean()\n",
    "\n",
    "df_train.loc[df_train['Type'] == 'Chupacabra', 'Avg Temperature'] =\\\n",
    "df_train.groupby('Type').get_group('Chupacabra')['Avg Temperature'].fillna(Temperature_mean)\n",
    "#------------------------------------------------------------------------------------------------\n",
    "Temperature_mean = df_train.groupby('Type').get_group('Jersey Devil')['Avg Temperature'].mean()\n",
    "\n",
    "df_train.loc[df_train['Type'] == 'Jersey Devil', 'Avg Temperature'] =\\\n",
    "df_train.groupby('Type').get_group('Jersey Devil')['Avg Temperature'].fillna(Temperature_mean)\n",
    "#------------------------------------------------------------------------------------------------\n",
    "Temperature_mean = df_train.groupby('Type').get_group('Mothman')['Avg Temperature'].mean()\n",
    "\n",
    "df_train.loc[df_train['Type'] == 'Mothman', 'Avg Temperature'] =\\\n",
    "df_train.groupby('Type').get_group('Mothman')['Avg Temperature'].fillna(Temperature_mean)\n",
    "#------------------------------------------------------------------------------------------------\n",
    "Temperature_mean = df_train.groupby('Type').get_group('Ropen')['Avg Temperature'].mean()\n",
    "\n",
    "df_train.loc[df_train['Type'] == 'Ropen', 'Avg Temperature'] =\\\n",
    "df_train.groupby('Type').get_group('Ropen')['Avg Temperature'].fillna(Temperature_mean)\n",
    "#------------------------------------------------------------------------------------------------\n",
    "Temperature_mean = df_train.groupby('Type').get_group('Sasquatch')['Avg Temperature'].mean()\n",
    "\n",
    "df_train.loc[df_train['Type'] == 'Sasquatch', 'Avg Temperature'] =\\\n",
    "df_train.groupby('Type').get_group('Sasquatch')['Avg Temperature'].fillna(Temperature_mean)\n",
    "#------------------------------------------------------------------------------------------------\n",
    "Temperature_mean = df_train.groupby('Type').get_group('Thunderbird')['Avg Temperature'].mean()\n",
    "\n",
    "df_train.loc[df_train['Type'] == 'Thunderbird', 'Avg Temperature'] =\\\n",
    "df_train.groupby('Type').get_group('Thunderbird')['Avg Temperature'].fillna(Temperature_mean)\n",
    "#------------------------------------------------------------------------------------------------\n",
    "Temperature_mean = df_train.groupby('Type').get_group('Wendigo')['Avg Temperature'].mean()\n",
    "\n",
    "df_train.loc[df_train['Type'] == 'Wendigo', 'Avg Temperature'] =\\\n",
    "df_train.groupby('Type').get_group('Wendigo')['Avg Temperature'].fillna(Temperature_mean)\n",
    "#------------------------------------------------------------------------------------------------\n",
    "Temperature_mean = df_train.groupby('Type').get_group('Yeti')['Avg Temperature'].mean()\n",
    "\n",
    "df_train.loc[df_train['Type'] == 'Yeti', 'Avg Temperature'] =\\\n",
    "df_train.groupby('Type').get_group('Yeti')['Avg Temperature'].fillna(Temperature_mean)"
   ]
  },
  {
   "cell_type": "markdown",
   "id": "dce016b2-c9d8-4e3d-ba52-6f93ba4daef4",
   "metadata": {},
   "source": [
    "## I will fill the nan values in the `Avg Humidity` with the median of the column but each Type seperately"
   ]
  },
  {
   "cell_type": "code",
   "execution_count": 26,
   "id": "57adc06c-32d4-4b2d-b65d-3727603fd5f0",
   "metadata": {},
   "outputs": [
    {
     "data": {
      "text/plain": [
       "Type\n",
       "Banshee         63.835949\n",
       "Chupacabra      42.498419\n",
       "Jersey Devil    77.274127\n",
       "Mothman         66.396324\n",
       "Ropen           73.651144\n",
       "Sasquatch       71.921799\n",
       "Thunderbird     65.080004\n",
       "Wendigo         73.250994\n",
       "Yeti            67.658274\n",
       "Name: Avg Humidity, dtype: float64"
      ]
     },
     "execution_count": 26,
     "metadata": {},
     "output_type": "execute_result"
    }
   ],
   "source": [
    "df_train.groupby('Type')['Avg Humidity'].median()"
   ]
  },
  {
   "cell_type": "code",
   "execution_count": 27,
   "id": "3944bbc4-6716-4f1c-b10e-6565ba7aedd9",
   "metadata": {},
   "outputs": [],
   "source": [
    "Humidity_median = df_train.groupby('Type').get_group('Banshee')['Avg Humidity'].median()\n",
    "\n",
    "df_train.loc[df_train['Type'] == 'Banshee', 'Avg Humidity'] =\\\n",
    "df_train.groupby('Type').get_group('Banshee')['Avg Humidity'].fillna(Humidity_median)\n",
    "#------------------------------------------------------------------------------------------------\n",
    "Humidity_median = df_train.groupby('Type').get_group('Chupacabra')['Avg Humidity'].median()\n",
    "\n",
    "df_train.loc[df_train['Type'] == 'Chupacabra', 'Avg Humidity'] =\\\n",
    "df_train.groupby('Type').get_group('Chupacabra')['Avg Humidity'].fillna(Humidity_median)\n",
    "#------------------------------------------------------------------------------------------------\n",
    "Humidity_median = df_train.groupby('Type').get_group('Jersey Devil')['Avg Humidity'].median()\n",
    "\n",
    "df_train.loc[df_train['Type'] == 'Jersey Devil', 'Avg Humidity'] =\\\n",
    "df_train.groupby('Type').get_group('Jersey Devil')['Avg Humidity'].fillna(Humidity_median)\n",
    "#------------------------------------------------------------------------------------------------\n",
    "Humidity_median = df_train.groupby('Type').get_group('Mothman')['Avg Humidity'].median()\n",
    "\n",
    "df_train.loc[df_train['Type'] == 'Mothman', 'Avg Humidity'] =\\\n",
    "df_train.groupby('Type').get_group('Mothman')['Avg Humidity'].fillna(Humidity_median)\n",
    "#------------------------------------------------------------------------------------------------\n",
    "Humidity_median = df_train.groupby('Type').get_group('Ropen')['Avg Humidity'].median()\n",
    "\n",
    "df_train.loc[df_train['Type'] == 'Ropen', 'Avg Humidity'] =\\\n",
    "df_train.groupby('Type').get_group('Ropen')['Avg Humidity'].fillna(Humidity_median)\n",
    "#------------------------------------------------------------------------------------------------\n",
    "Humidity_median = df_train.groupby('Type').get_group('Sasquatch')['Avg Humidity'].median()\n",
    "\n",
    "df_train.loc[df_train['Type'] == 'Sasquatch', 'Avg Humidity'] =\\\n",
    "df_train.groupby('Type').get_group('Sasquatch')['Avg Humidity'].fillna(Humidity_median)\n",
    "#------------------------------------------------------------------------------------------------\n",
    "Humidity_median = df_train.groupby('Type').get_group('Thunderbird')['Avg Humidity'].median()\n",
    "\n",
    "df_train.loc[df_train['Type'] == 'Thunderbird', 'Avg Humidity'] =\\\n",
    "df_train.groupby('Type').get_group('Thunderbird')['Avg Humidity'].fillna(Humidity_median)\n",
    "#------------------------------------------------------------------------------------------------\n",
    "Humidity_median = df_train.groupby('Type').get_group('Wendigo')['Avg Humidity'].median()\n",
    "\n",
    "df_train.loc[df_train['Type'] == 'Wendigo', 'Avg Humidity'] =\\\n",
    "df_train.groupby('Type').get_group('Wendigo')['Avg Humidity'].fillna(Humidity_median)\n",
    "#------------------------------------------------------------------------------------------------\n",
    "Humidity_median = df_train.groupby('Type').get_group('Yeti')['Avg Humidity'].median()\n",
    "\n",
    "df_train.loc[df_train['Type'] == 'Yeti', 'Avg Humidity'] =\\\n",
    "df_train.groupby('Type').get_group('Yeti')['Avg Humidity'].fillna(Humidity_median)"
   ]
  },
  {
   "cell_type": "markdown",
   "id": "4877386e-3c2c-42d3-89cd-d2fe82fdd305",
   "metadata": {},
   "source": [
    "## I will fill the nan values in the `pH Change` with the median of the column but each Type seperately"
   ]
  },
  {
   "cell_type": "code",
   "execution_count": 28,
   "id": "8c1d38c0-c0ae-486e-8304-1b51eb9651c3",
   "metadata": {},
   "outputs": [
    {
     "data": {
      "text/plain": [
       "Type\n",
       "Banshee        -0.215239\n",
       "Chupacabra      0.098289\n",
       "Jersey Devil   -0.397981\n",
       "Mothman        -0.264090\n",
       "Ropen           0.198555\n",
       "Sasquatch       0.099990\n",
       "Thunderbird     0.281473\n",
       "Wendigo        -0.480307\n",
       "Yeti            0.011254\n",
       "Name: pH Change, dtype: float64"
      ]
     },
     "execution_count": 28,
     "metadata": {},
     "output_type": "execute_result"
    }
   ],
   "source": [
    "df_train.groupby('Type')['pH Change'].median()"
   ]
  },
  {
   "cell_type": "code",
   "execution_count": 29,
   "id": "60b0e82d-f980-4377-ad3e-a1befaf75e93",
   "metadata": {},
   "outputs": [],
   "source": [
    "PH_median = df_train.groupby('Type').get_group('Banshee')['pH Change'].median()\n",
    "\n",
    "df_train.loc[df_train['Type'] == 'Banshee', 'pH Change'] =\\\n",
    "df_train.groupby('Type').get_group('Banshee')['pH Change'].fillna(PH_median)\n",
    "#------------------------------------------------------------------------------------------------\n",
    "PH_median = df_train.groupby('Type').get_group('Chupacabra')['pH Change'].median()\n",
    "\n",
    "df_train.loc[df_train['Type'] == 'Chupacabra', 'pH Change'] =\\\n",
    "df_train.groupby('Type').get_group('Chupacabra')['pH Change'].fillna(PH_median)\n",
    "#------------------------------------------------------------------------------------------------\n",
    "PH_median = df_train.groupby('Type').get_group('Jersey Devil')['pH Change'].median()\n",
    "\n",
    "df_train.loc[df_train['Type'] == 'Jersey Devil', 'pH Change'] =\\\n",
    "df_train.groupby('Type').get_group('Jersey Devil')['pH Change'].fillna(PH_median)\n",
    "#------------------------------------------------------------------------------------------------\n",
    "PH_median = df_train.groupby('Type').get_group('Mothman')['pH Change'].median()\n",
    "\n",
    "df_train.loc[df_train['Type'] == 'Mothman', 'pH Change'] =\\\n",
    "df_train.groupby('Type').get_group('Mothman')['pH Change'].fillna(PH_median)\n",
    "#------------------------------------------------------------------------------------------------\n",
    "PH_median = df_train.groupby('Type').get_group('Ropen')['pH Change'].median()\n",
    "\n",
    "df_train.loc[df_train['Type'] == 'Ropen', 'pH Change'] =\\\n",
    "df_train.groupby('Type').get_group('Ropen')['pH Change'].fillna(PH_median)\n",
    "#------------------------------------------------------------------------------------------------\n",
    "PH_median = df_train.groupby('Type').get_group('Sasquatch')['pH Change'].median()\n",
    "\n",
    "df_train.loc[df_train['Type'] == 'Sasquatch', 'pH Change'] =\\\n",
    "df_train.groupby('Type').get_group('Sasquatch')['pH Change'].fillna(PH_median)\n",
    "#------------------------------------------------------------------------------------------------\n",
    "PH_median = df_train.groupby('Type').get_group('Thunderbird')['pH Change'].median()\n",
    "\n",
    "df_train.loc[df_train['Type'] == 'Thunderbird', 'pH Change'] =\\\n",
    "df_train.groupby('Type').get_group('Thunderbird')['pH Change'].fillna(PH_median)\n",
    "#------------------------------------------------------------------------------------------------\n",
    "PH_median = df_train.groupby('Type').get_group('Wendigo')['pH Change'].median()\n",
    "\n",
    "df_train.loc[df_train['Type'] == 'Wendigo', 'pH Change'] =\\\n",
    "df_train.groupby('Type').get_group('Wendigo')['pH Change'].fillna(PH_median)\n",
    "#------------------------------------------------------------------------------------------------\n",
    "PH_median = df_train.groupby('Type').get_group('Yeti')['pH Change'].median()\n",
    "\n",
    "df_train.loc[df_train['Type'] == 'Yeti', 'pH Change'] =\\\n",
    "df_train.groupby('Type').get_group('Yeti')['pH Change'].fillna(PH_median)"
   ]
  },
  {
   "cell_type": "code",
   "execution_count": 30,
   "id": "a8e329fe-9b78-4de2-bc4b-17f28272fd80",
   "metadata": {},
   "outputs": [
    {
     "data": {
      "text/plain": [
       "Island Size                  0\n",
       "Terrain Type               148\n",
       "Vegetation Type            113\n",
       "Distance from Mainland       0\n",
       "Avg Temperature              0\n",
       "Avg Humidity                 0\n",
       "Flora and Fauna Changes    186\n",
       "Growth Patterns            122\n",
       "Unexplain Sounds Count     285\n",
       "Visual Anomalies           468\n",
       "pH Change                    0\n",
       "Type                         0\n",
       "dtype: int64"
      ]
     },
     "execution_count": 30,
     "metadata": {},
     "output_type": "execute_result"
    }
   ],
   "source": [
    "df_train.isnull().sum()"
   ]
  },
  {
   "cell_type": "markdown",
   "id": "6114dbae-f5e5-4f17-9dbb-811deeec3cd7",
   "metadata": {},
   "source": [
    "## Now let's handle the missing values on categorical columns. First of all I'll not drop the missing values because it is maybe 20% of the data so this is very bad choice. let's fill the data with the most frequent value using mode ?"
   ]
  },
  {
   "cell_type": "code",
   "execution_count": 31,
   "id": "35ba95f3-fc2e-495d-b263-94488539b03e",
   "metadata": {},
   "outputs": [
    {
     "data": {
      "image/png": "[encoded data removed]",
      "text/plain": [
       "<Figure size 1300x300 with 1 Axes>"
      ]
     },
     "metadata": {},
     "output_type": "display_data"
    }
   ],
   "source": [
    "plt.figure(figsize=(13,3))\n",
    "sns.countplot(df_train, x=df_train['Terrain Type'])\n",
    "plt.grid()\n",
    "plt.show()\n",
    "# The data is umbalanced. (I'll use one hot)"
   ]
  },
  {
   "cell_type": "code",
   "execution_count": 32,
   "id": "39c1b6c6-c9c1-4013-b01a-c79412d98505",
   "metadata": {},
   "outputs": [
    {
     "data": {
      "image/png": "[encoded data removed]",
      "text/plain": [
       "<Figure size 1500x400 with 1 Axes>"
      ]
     },
     "metadata": {},
     "output_type": "display_data"
    }
   ],
   "source": [
    "plt.figure(figsize=(15,4))\n",
    "sns.countplot(df_train, x=df_train['Vegetation Type'])\n",
    "plt.grid()\n",
    "plt.show()\n",
    "# The data is umbalanced. (I'll use one hot)"
   ]
  },
  {
   "cell_type": "code",
   "execution_count": 33,
   "id": "ac6cc2d5-da0e-4896-bba9-c5e70b7216a6",
   "metadata": {},
   "outputs": [
    {
     "data": {
      "image/png": "[encoded data removed]",
      "text/plain": [
       "<Figure size 400x300 with 1 Axes>"
      ]
     },
     "metadata": {},
     "output_type": "display_data"
    }
   ],
   "source": [
    "plt.figure(figsize=(4,3))\n",
    "sns.countplot(df_train, x=df_train['Flora and Fauna Changes'])\n",
    "plt.grid()\n",
    "plt.show()\n",
    "# The data is umbalanced. (I'll use one hot)"
   ]
  },
  {
   "cell_type": "code",
   "execution_count": 34,
   "id": "995a70d8-0227-43cb-ace4-8e732165a104",
   "metadata": {},
   "outputs": [
    {
     "data": {
      "image/png": "[encoded data removed]",
      "text/plain": [
       "<Figure size 400x300 with 1 Axes>"
      ]
     },
     "metadata": {},
     "output_type": "display_data"
    }
   ],
   "source": [
    "plt.figure(figsize=(4,3))\n",
    "sns.countplot(df_train, x=df_train['Growth Patterns'])\n",
    "plt.grid()\n",
    "plt.show()\n",
    "# The data is balanced. (I'll use LabelEncoder)"
   ]
  },
  {
   "cell_type": "code",
   "execution_count": 35,
   "id": "8510b43d-5f8e-4ed9-b98f-af2facb998d7",
   "metadata": {},
   "outputs": [
    {
     "data": {
      "image/png": "[encoded data removed]",
      "text/plain": [
       "<Figure size 400x300 with 1 Axes>"
      ]
     },
     "metadata": {},
     "output_type": "display_data"
    }
   ],
   "source": [
    "plt.figure(figsize=(4,3))\n",
    "sns.countplot(df_train, x=df_train['Unexplain Sounds Count'])\n",
    "plt.grid()\n",
    "plt.show()\n",
    "# The data is balanced. (I'll use one hot)"
   ]
  },
  {
   "cell_type": "code",
   "execution_count": 36,
   "id": "2189d98c-8eb3-445e-b1b4-217c095d14d2",
   "metadata": {},
   "outputs": [
    {
     "data": {
      "image/png": "[encoded data removed]",
      "text/plain": [
       "<Figure size 400x300 with 1 Axes>"
      ]
     },
     "metadata": {},
     "output_type": "display_data"
    }
   ],
   "source": [
    "plt.figure(figsize=(4,3))\n",
    "sns.countplot(df_train, x=df_train['Visual Anomalies'])\n",
    "plt.grid()\n",
    "plt.show()\n",
    "# The data is balanced. (I'll use LabelEncoder)"
   ]
  },
  {
   "cell_type": "code",
   "execution_count": 37,
   "id": "9ed19473-a39a-4976-a30f-1f88aa589fef",
   "metadata": {
    "scrolled": true
   },
   "outputs": [
    {
     "data": {
      "text/html": [
       "<div>\n",
       "<style scoped>\n",
       "    .dataframe tbody tr th:only-of-type {\n",
       "        vertical-align: middle;\n",
       "    }\n",
       "\n",
       "    .dataframe tbody tr th {\n",
       "        vertical-align: top;\n",
       "    }\n",
       "\n",
       "    .dataframe thead th {\n",
       "        text-align: right;\n",
       "    }\n",
       "</style>\n",
       "<table border=\"1\" class=\"dataframe\">\n",
       "  <thead>\n",
       "    <tr style=\"text-align: right;\">\n",
       "      <th></th>\n",
       "      <th>Island Size</th>\n",
       "      <th>Terrain Type</th>\n",
       "      <th>Vegetation Type</th>\n",
       "      <th>Distance from Mainland</th>\n",
       "      <th>Avg Temperature</th>\n",
       "      <th>Avg Humidity</th>\n",
       "      <th>Flora and Fauna Changes</th>\n",
       "      <th>Growth Patterns</th>\n",
       "      <th>Unexplain Sounds Count</th>\n",
       "      <th>Visual Anomalies</th>\n",
       "      <th>pH Change</th>\n",
       "      <th>Type</th>\n",
       "    </tr>\n",
       "  </thead>\n",
       "  <tbody>\n",
       "    <tr>\n",
       "      <th>0</th>\n",
       "      <td>333.060006</td>\n",
       "      <td>Forested</td>\n",
       "      <td>Mixed Forests</td>\n",
       "      <td>500.939406</td>\n",
       "      <td>2.126074</td>\n",
       "      <td>72.828342</td>\n",
       "      <td>No Effect</td>\n",
       "      <td>Normal</td>\n",
       "      <td>High</td>\n",
       "      <td>Occasional</td>\n",
       "      <td>0.146254</td>\n",
       "      <td>Sasquatch</td>\n",
       "    </tr>\n",
       "    <tr>\n",
       "      <th>1</th>\n",
       "      <td>326.745276</td>\n",
       "      <td>NaN</td>\n",
       "      <td>Mangroves</td>\n",
       "      <td>261.172187</td>\n",
       "      <td>31.951421</td>\n",
       "      <td>79.771927</td>\n",
       "      <td>Increasing</td>\n",
       "      <td>Normal</td>\n",
       "      <td>Moderate</td>\n",
       "      <td>NaN</td>\n",
       "      <td>0.149703</td>\n",
       "      <td>Ropen</td>\n",
       "    </tr>\n",
       "    <tr>\n",
       "      <th>2</th>\n",
       "      <td>180.886850</td>\n",
       "      <td>Forested</td>\n",
       "      <td>Coniferous Forests</td>\n",
       "      <td>197.242470</td>\n",
       "      <td>12.564517</td>\n",
       "      <td>79.801094</td>\n",
       "      <td>Decreasing</td>\n",
       "      <td>Normal</td>\n",
       "      <td>NaN</td>\n",
       "      <td>Frequent</td>\n",
       "      <td>-0.202983</td>\n",
       "      <td>Wendigo</td>\n",
       "    </tr>\n",
       "    <tr>\n",
       "      <th>3</th>\n",
       "      <td>63.474524</td>\n",
       "      <td>Mountainous</td>\n",
       "      <td>Mixed Forests</td>\n",
       "      <td>333.862902</td>\n",
       "      <td>18.202615</td>\n",
       "      <td>47.982155</td>\n",
       "      <td>No Effect</td>\n",
       "      <td>Normal</td>\n",
       "      <td>High</td>\n",
       "      <td>Frequent</td>\n",
       "      <td>0.110638</td>\n",
       "      <td>Chupacabra</td>\n",
       "    </tr>\n",
       "    <tr>\n",
       "      <th>4</th>\n",
       "      <td>339.410940</td>\n",
       "      <td>Forested</td>\n",
       "      <td>Coniferous Forests</td>\n",
       "      <td>411.014013</td>\n",
       "      <td>-3.367113</td>\n",
       "      <td>78.075619</td>\n",
       "      <td>Increasing</td>\n",
       "      <td>Normal</td>\n",
       "      <td>Low</td>\n",
       "      <td>Occasional</td>\n",
       "      <td>0.157301</td>\n",
       "      <td>Sasquatch</td>\n",
       "    </tr>\n",
       "  </tbody>\n",
       "</table>\n",
       "</div>"
      ],
      "text/plain": [
       "   Island Size Terrain Type     Vegetation Type  Distance from Mainland  \\\n",
       "0   333.060006     Forested       Mixed Forests              500.939406   \n",
       "1   326.745276          NaN           Mangroves              261.172187   \n",
       "2   180.886850     Forested  Coniferous Forests              197.242470   \n",
       "3    63.474524  Mountainous       Mixed Forests              333.862902   \n",
       "4   339.410940     Forested  Coniferous Forests              411.014013   \n",
       "\n",
       "   Avg Temperature  Avg Humidity Flora and Fauna Changes Growth Patterns  \\\n",
       "0         2.126074     72.828342               No Effect          Normal   \n",
       "1        31.951421     79.771927              Increasing          Normal   \n",
       "2        12.564517     79.801094              Decreasing          Normal   \n",
       "3        18.202615     47.982155               No Effect          Normal   \n",
       "4        -3.367113     78.075619              Increasing          Normal   \n",
       "\n",
       "  Unexplain Sounds Count Visual Anomalies  pH Change        Type  \n",
       "0                   High       Occasional   0.146254   Sasquatch  \n",
       "1               Moderate              NaN   0.149703       Ropen  \n",
       "2                    NaN         Frequent  -0.202983     Wendigo  \n",
       "3                   High         Frequent   0.110638  Chupacabra  \n",
       "4                    Low       Occasional   0.157301   Sasquatch  "
      ]
     },
     "execution_count": 37,
     "metadata": {},
     "output_type": "execute_result"
    }
   ],
   "source": [
    "df_train.head()"
   ]
  },
  {
   "cell_type": "code",
   "execution_count": 38,
   "id": "c7202735-d0c0-4c11-990a-a67709c4574d",
   "metadata": {},
   "outputs": [
    {
     "data": {
      "text/plain": [
       "Island Size                  0\n",
       "Terrain Type               148\n",
       "Vegetation Type            113\n",
       "Distance from Mainland       0\n",
       "Avg Temperature              0\n",
       "Avg Humidity                 0\n",
       "Flora and Fauna Changes    186\n",
       "Growth Patterns            122\n",
       "Unexplain Sounds Count     285\n",
       "Visual Anomalies           468\n",
       "pH Change                    0\n",
       "Type                         0\n",
       "dtype: int64"
      ]
     },
     "execution_count": 38,
     "metadata": {},
     "output_type": "execute_result"
    }
   ],
   "source": [
    "df_train.isnull().sum()"
   ]
  },
  {
   "cell_type": "code",
   "execution_count": 39,
   "id": "73ccaa74-1797-4f5a-aea0-766d28ebb018",
   "metadata": {},
   "outputs": [],
   "source": [
    "df_train['Terrain Type'].mode() # ==> Forested\n",
    "df_train['Terrain Type'] = df_train['Terrain Type'].fillna('Forested')"
   ]
  },
  {
   "cell_type": "code",
   "execution_count": 40,
   "id": "46036fb4-022b-440e-acef-818baaa2166e",
   "metadata": {},
   "outputs": [],
   "source": [
    "df_train['Vegetation Type'].mode() # ==> Grasslands\n",
    "df_train['Vegetation Type'] = df_train['Vegetation Type'].fillna('Grasslands')"
   ]
  },
  {
   "cell_type": "code",
   "execution_count": 41,
   "id": "c1d28234-475a-4395-98af-3867bcc08fd8",
   "metadata": {},
   "outputs": [],
   "source": [
    "df_train['Flora and Fauna Changes'].mode() # ==> No Effect\n",
    "df_train['Flora and Fauna Changes'] = df_train['Flora and Fauna Changes'].fillna('No Effect')"
   ]
  },
  {
   "cell_type": "code",
   "execution_count": 42,
   "id": "d75d99e1-5686-43df-bea8-7a9a3e9de95c",
   "metadata": {},
   "outputs": [],
   "source": [
    "df_train['Growth Patterns'].mode() # ==> Normal\n",
    "df_train['Growth Patterns'] = df_train['Growth Patterns'].fillna('Normal')"
   ]
  },
  {
   "cell_type": "code",
   "execution_count": 43,
   "id": "52a6530a-dc94-478b-9c37-b2f365878c79",
   "metadata": {},
   "outputs": [],
   "source": [
    "df_train['Unexplain Sounds Count'].mode() # ==> Moderate\n",
    "df_train['Unexplain Sounds Count'] = df_train['Unexplain Sounds Count'].fillna('Moderate')"
   ]
  },
  {
   "cell_type": "code",
   "execution_count": 44,
   "id": "d5a0f29a-9f13-4d2e-b9a0-9317d1c0dae4",
   "metadata": {},
   "outputs": [],
   "source": [
    "df_train['Visual Anomalies'].mode() # ==> Occasional\n",
    "df_train['Visual Anomalies'] = df_train['Visual Anomalies'].fillna('Occasional')"
   ]
  },
  {
   "cell_type": "code",
   "execution_count": 45,
   "id": "954e0ac1-3b73-4719-8bed-c1e682369092",
   "metadata": {},
   "outputs": [
    {
     "data": {
      "text/plain": [
       "Island Size                0\n",
       "Terrain Type               0\n",
       "Vegetation Type            0\n",
       "Distance from Mainland     0\n",
       "Avg Temperature            0\n",
       "Avg Humidity               0\n",
       "Flora and Fauna Changes    0\n",
       "Growth Patterns            0\n",
       "Unexplain Sounds Count     0\n",
       "Visual Anomalies           0\n",
       "pH Change                  0\n",
       "Type                       0\n",
       "dtype: int64"
      ]
     },
     "execution_count": 45,
     "metadata": {},
     "output_type": "execute_result"
    }
   ],
   "source": [
    "df_train.isnull().sum()"
   ]
  },
  {
   "cell_type": "markdown",
   "id": "e5544630-5c94-4fd5-a0c6-0509bcf1324a",
   "metadata": {},
   "source": [
    "#### ['Terrain Type']  --> one hot\n",
    "#### ['Vegetation Type'] --> one hot\n",
    "#### ['Flora and Fauna Changes'] --> one hot\n",
    "#### ['Growth Patterns'] --> LabelEncoder\n",
    "#### ['Unexplain Sounds Count'] --> one hot\n",
    "#### ['Visual Anomalies'] --> LabelEncoder"
   ]
  },
  {
   "cell_type": "code",
   "execution_count": 46,
   "id": "0d7b6b95-f306-4635-90c9-a63fb4b2cfa1",
   "metadata": {},
   "outputs": [],
   "source": [
    "df_test_cate = df_train.loc[:, ['Growth Patterns', 'Visual Anomalies']]\n",
    "\n",
    "label_encoders = {}\n",
    "\n",
    "for col in df_test_cate.columns:\n",
    "    le = LabelEncoder()\n",
    "    df_test_cate[col] = le.fit_transform(df_test_cate[col])\n",
    "    label_encoders[col] = le\n",
    "    \n",
    "df_train.loc[:, ['Growth Patterns', 'Visual Anomalies']] = df_test_cate"
   ]
  },
  {
   "cell_type": "code",
   "execution_count": 47,
   "id": "b3ed69c7-b07d-43e6-9ce9-5dd8905cd999",
   "metadata": {},
   "outputs": [],
   "source": [
    "ohe = OneHotEncoder()"
   ]
  },
  {
   "cell_type": "code",
   "execution_count": 48,
   "id": "45ed4fc2-2494-4cc8-b153-ddd3cb73c275",
   "metadata": {},
   "outputs": [],
   "source": [
    "columns_to_encode = ['Terrain Type', 'Vegetation Type', 'Flora and Fauna Changes', 'Unexplain Sounds Count']\n",
    "\n",
    "# empty DataFrame to store the encoded data\n",
    "encoded_data_frames = []\n",
    "\n",
    "for column in columns_to_encode:\n",
    "    column_data = df_train[[column]]\n",
    "    encoded_data = ohe.fit_transform(column_data)\n",
    "    encoded_df = pd.DataFrame(encoded_data.toarray(), columns=ohe.get_feature_names_out([column]))\n",
    "    encoded_data_frames.append(encoded_df)\n",
    "\n",
    "encoded_combined = pd.concat(encoded_data_frames, axis=1)\n",
    "\n",
    "df_train.drop(columns=columns_to_encode, inplace=True)  # Remove the original columns\n",
    "df_train = pd.concat([df_train, encoded_combined], axis=1)   # Concatenate the encoded DataFrames"
   ]
  },
  {
   "cell_type": "markdown",
   "id": "a4321898-90fd-47da-a568-443cef71070f",
   "metadata": {},
   "source": [
    "# **Building the model using training data**"
   ]
  },
  {
   "cell_type": "code",
   "execution_count": 49,
   "id": "eec5e10d-dc6d-4b91-92ff-8b44fb4ea463",
   "metadata": {},
   "outputs": [],
   "source": [
    "ptf = PowerTransformer() # normalizing the features"
   ]
  },
  {
   "cell_type": "code",
   "execution_count": 50,
   "id": "a8001f0c-588d-4f7d-a0ef-02f476753301",
   "metadata": {},
   "outputs": [],
   "source": [
    "# df_train.shape     (1219, 13)\n",
    "X = df_train.drop('Type', axis=1)\n",
    "y = df_train['Type']"
   ]
  },
  {
   "cell_type": "code",
   "execution_count": 51,
   "id": "52818ba9-44b1-4923-ba2a-2568e5a0fe6b",
   "metadata": {},
   "outputs": [],
   "source": [
    "X = ptf.fit_transform(X)"
   ]
  },
  {
   "cell_type": "code",
   "execution_count": 52,
   "id": "2a50f535-ef62-4064-806f-358e20ee4384",
   "metadata": {},
   "outputs": [],
   "source": [
    "X_train, X_test, y_train, y_test = train_test_split(X, y, test_size = 0.2, random_state = 0)"
   ]
  },
  {
   "cell_type": "markdown",
   "id": "1291ddca-0c70-4843-a451-754fc7bf4d6f",
   "metadata": {},
   "source": [
    "# **Using Random Forest on training data**"
   ]
  },
  {
   "cell_type": "code",
   "execution_count": 53,
   "id": "9c59f197-51dd-4e97-8ca5-d6e90facbe05",
   "metadata": {},
   "outputs": [],
   "source": [
    "rfc = RandomForestClassifier(criterion='entropy', n_estimators=300)\n",
    "rfc.fit(X_train, y_train)\n",
    "pred_rfc = rfc.predict(X_test)"
   ]
  },
  {
   "cell_type": "markdown",
   "id": "0305ce3d-0474-45d3-9b20-5ce178fd381d",
   "metadata": {},
   "source": [
    "**عشان اعرف متى بوقف, كل وحدة فيهم الها معادلة**\n",
    "`gini`\n",
    "`Entropy`\n",
    "`log_loss`"
   ]
  },
  {
   "cell_type": "code",
   "execution_count": 54,
   "id": "734d112d-9b1f-4af6-9b43-fd29c86365c5",
   "metadata": {},
   "outputs": [
    {
     "name": "stdout",
     "output_type": "stream",
     "text": [
      "              precision    recall  f1-score   support\n",
      "\n",
      "     Banshee       0.73      0.79      0.76        14\n",
      "  Chupacabra       0.80      0.90      0.85        31\n",
      "Jersey Devil       0.72      0.76      0.74        17\n",
      "     Mothman       0.70      0.50      0.58        28\n",
      "       Ropen       0.56      0.56      0.56        27\n",
      "   Sasquatch       0.81      0.83      0.82        47\n",
      " Thunderbird       0.80      0.59      0.68        27\n",
      "     Wendigo       0.80      1.00      0.89        24\n",
      "        Yeti       0.87      0.93      0.90        29\n",
      "\n",
      "    accuracy                           0.77       244\n",
      "   macro avg       0.75      0.76      0.75       244\n",
      "weighted avg       0.76      0.77      0.76       244\n",
      "\n"
     ]
    }
   ],
   "source": [
    "print(classification_report(y_test, pred_rfc))"
   ]
  },
  {
   "cell_type": "markdown",
   "id": "3b92f6e6-f26b-4154-9396-a76234b7e83d",
   "metadata": {},
   "source": [
    "# **Cleaning testing data**"
   ]
  },
  {
   "cell_type": "code",
   "execution_count": 55,
   "id": "cbc97414-b9e2-4502-a68c-551925c0c325",
   "metadata": {},
   "outputs": [],
   "source": [
    "df_test = df_test.drop('IslandID', axis=1)"
   ]
  },
  {
   "cell_type": "code",
   "execution_count": 56,
   "id": "03fcd120-7db1-4381-bc91-9ca1dfa1de20",
   "metadata": {},
   "outputs": [
    {
     "name": "stdout",
     "output_type": "stream",
     "text": [
      "<class 'pandas.core.frame.DataFrame'>\n",
      "RangeIndex: 523 entries, 0 to 522\n",
      "Data columns (total 11 columns):\n",
      " #   Column                   Non-Null Count  Dtype  \n",
      "---  ------                   --------------  -----  \n",
      " 0   Island Size              443 non-null    float64\n",
      " 1   Terrain Type             462 non-null    object \n",
      " 2   Vegetation Type          479 non-null    object \n",
      " 3   Distance from Mainland   419 non-null    float64\n",
      " 4   Avg Temperature          482 non-null    float64\n",
      " 5   Avg Humidity             475 non-null    float64\n",
      " 6   Flora and Fauna Changes  448 non-null    object \n",
      " 7   Growth Patterns          471 non-null    object \n",
      " 8   Unexplain Sounds Count   400 non-null    object \n",
      " 9   Visual Anomalies         309 non-null    object \n",
      " 10  pH Change                423 non-null    float64\n",
      "dtypes: float64(5), object(6)\n",
      "memory usage: 45.1+ KB\n"
     ]
    }
   ],
   "source": [
    "df_test.info()"
   ]
  },
  {
   "cell_type": "code",
   "execution_count": 57,
   "id": "98a7f60b-cff1-4ef4-b9ee-d23a9c105591",
   "metadata": {},
   "outputs": [
    {
     "data": {
      "text/plain": [
       "Island Size                 80\n",
       "Terrain Type                61\n",
       "Vegetation Type             44\n",
       "Distance from Mainland     104\n",
       "Avg Temperature             41\n",
       "Avg Humidity                48\n",
       "Flora and Fauna Changes     75\n",
       "Growth Patterns             52\n",
       "Unexplain Sounds Count     123\n",
       "Visual Anomalies           214\n",
       "pH Change                  100\n",
       "dtype: int64"
      ]
     },
     "execution_count": 57,
     "metadata": {},
     "output_type": "execute_result"
    }
   ],
   "source": [
    "df_test.isnull().sum()"
   ]
  },
  {
   "cell_type": "code",
   "execution_count": 58,
   "id": "0085c7c4-9710-44ed-b708-d381b214df2d",
   "metadata": {},
   "outputs": [],
   "source": [
    "# df_test['Terrain Type'].mode() # ==> Forested\n",
    "df_test['Terrain Type'] = df_test['Terrain Type'].fillna('Forested')"
   ]
  },
  {
   "cell_type": "code",
   "execution_count": 59,
   "id": "ac5ae568-aadb-4445-92fd-428758a0eed0",
   "metadata": {},
   "outputs": [],
   "source": [
    "# df_test['Vegetation Type'].mode() # ==> Coniferous Forests\n",
    "df_test['Vegetation Type'] = df_test['Vegetation Type'].fillna('Coniferous Forests')"
   ]
  },
  {
   "cell_type": "code",
   "execution_count": 60,
   "id": "eba11864-2086-41b4-9396-31211b5c3e81",
   "metadata": {},
   "outputs": [],
   "source": [
    "# df_test['Flora and Fauna Changes'].mode() # ==> No Effect\n",
    "df_test['Flora and Fauna Changes'] = df_test['Flora and Fauna Changes'].fillna('No Effect')"
   ]
  },
  {
   "cell_type": "code",
   "execution_count": 61,
   "id": "484e46ef-2c60-45f7-b30d-5d81e0104e72",
   "metadata": {},
   "outputs": [],
   "source": [
    "# df_test['Growth Patterns'].mode() # ==> Normal\n",
    "df_test['Growth Patterns'] = df_test['Growth Patterns'].fillna('Normal')"
   ]
  },
  {
   "cell_type": "code",
   "execution_count": 62,
   "id": "e454b7a4-eb86-45eb-86b3-e2343d6b982b",
   "metadata": {},
   "outputs": [],
   "source": [
    "# df_test['Unexplain Sounds Count'].mode() # ==> Low\n",
    "df_test['Unexplain Sounds Count'] = df_test['Unexplain Sounds Count'].fillna('Low')"
   ]
  },
  {
   "cell_type": "code",
   "execution_count": 63,
   "id": "41928f75-e744-4e58-943c-b7fc9810b1fe",
   "metadata": {},
   "outputs": [],
   "source": [
    "df_test['Visual Anomalies'].mode() # ==> Occasional\n",
    "df_test['Visual Anomalies'] = df_test['Visual Anomalies'].fillna('Occasional')"
   ]
  },
  {
   "cell_type": "code",
   "execution_count": 64,
   "id": "fd484827-c681-4bb2-a3e7-58a818dae160",
   "metadata": {},
   "outputs": [],
   "source": [
    "distance = df_test['Distance from Mainland'].median()\n",
    "df_test['Distance from Mainland'] = df_test['Distance from Mainland'].fillna(distance)"
   ]
  },
  {
   "cell_type": "code",
   "execution_count": 65,
   "id": "14a8e632-a248-426a-98e1-3adff808f54c",
   "metadata": {},
   "outputs": [],
   "source": [
    "distance = df_test['Avg Temperature'].mean()\n",
    "df_test['Avg Temperature'] = df_test['Avg Temperature'].fillna(distance)"
   ]
  },
  {
   "cell_type": "code",
   "execution_count": 66,
   "id": "66ff8790-027c-41ee-ad54-fd0d42cb5de1",
   "metadata": {},
   "outputs": [],
   "source": [
    "distance = df_test['Avg Humidity'].median()\n",
    "df_test['Avg Humidity'] = df_test['Avg Humidity'].fillna(distance)"
   ]
  },
  {
   "cell_type": "code",
   "execution_count": 67,
   "id": "8cc573c4-caed-407b-8a91-04b7f00cbaeb",
   "metadata": {},
   "outputs": [],
   "source": [
    "distance = df_test['pH Change'].median()\n",
    "df_test['pH Change'] = df_test['pH Change'].fillna(distance)"
   ]
  },
  {
   "cell_type": "code",
   "execution_count": 68,
   "id": "4a460b58-dd92-42f4-91be-207562931270",
   "metadata": {},
   "outputs": [],
   "source": [
    "knn = KNNImputer(n_neighbors=3)\n",
    "knn.fit(df_test['Island Size'].values.reshape(-1,1))\n",
    "df_test['Island Size'] = knn.transform(df_test['Island Size'].values.\\\n",
    "                                  reshape(-1,1)).ravel()"
   ]
  },
  {
   "cell_type": "code",
   "execution_count": 69,
   "id": "db228f99-dea6-4cd6-9dd7-9e0a7d7186fe",
   "metadata": {},
   "outputs": [
    {
     "data": {
      "text/plain": [
       "Island Size                0\n",
       "Terrain Type               0\n",
       "Vegetation Type            0\n",
       "Distance from Mainland     0\n",
       "Avg Temperature            0\n",
       "Avg Humidity               0\n",
       "Flora and Fauna Changes    0\n",
       "Growth Patterns            0\n",
       "Unexplain Sounds Count     0\n",
       "Visual Anomalies           0\n",
       "pH Change                  0\n",
       "dtype: int64"
      ]
     },
     "execution_count": 69,
     "metadata": {},
     "output_type": "execute_result"
    }
   ],
   "source": [
    "df_test.isnull().sum()"
   ]
  },
  {
   "cell_type": "markdown",
   "id": "ff384b25-3520-40b9-8222-f0b4a1af222e",
   "metadata": {},
   "source": [
    "# **Using LabelEncoder & OneHotEncoder on testing data**"
   ]
  },
  {
   "cell_type": "code",
   "execution_count": 70,
   "id": "ecaba103-13f1-47cd-92b4-51e4a995f3e8",
   "metadata": {},
   "outputs": [],
   "source": [
    "df_test_cate = df_test.loc[:, ['Growth Patterns', 'Visual Anomalies']]\n",
    "\n",
    "label_encoders = {}\n",
    "\n",
    "for col in df_test_cate.columns:\n",
    "    le = LabelEncoder()\n",
    "    df_test_cate[col] = le.fit_transform(df_test_cate[col])\n",
    "    label_encoders[col] = le\n",
    "    \n",
    "df_test.loc[:, ['Growth Patterns', 'Visual Anomalies']] = df_test_cate"
   ]
  },
  {
   "cell_type": "code",
   "execution_count": 71,
   "id": "3a973635-7ccf-4b8b-a415-f436e4879808",
   "metadata": {},
   "outputs": [],
   "source": [
    "columns_to_encode = ['Terrain Type', 'Vegetation Type', 'Flora and Fauna Changes', 'Unexplain Sounds Count']\n",
    "\n",
    "# empty DataFrame to store the encoded data\n",
    "encoded_data_frames = []\n",
    "\n",
    "for column in columns_to_encode:\n",
    "    column_data = df_test[[column]]\n",
    "    encoded_data = ohe.fit_transform(column_data)\n",
    "    encoded_df = pd.DataFrame(encoded_data.toarray(), columns=ohe.get_feature_names_out([column]))\n",
    "    encoded_data_frames.append(encoded_df)\n",
    "\n",
    "encoded_combined = pd.concat(encoded_data_frames, axis=1)\n",
    "\n",
    "df_test.drop(columns=columns_to_encode, inplace=True)  # Remove the original columns\n",
    "df_test = pd.concat([df_test, encoded_combined], axis=1)   # Concatenate the encoded DataFrames"
   ]
  },
  {
   "cell_type": "code",
   "execution_count": 72,
   "id": "faf5e9bf-4e67-490a-9151-75f262997005",
   "metadata": {},
   "outputs": [
    {
     "data": {
      "text/plain": [
       "Island Size                           0\n",
       "Distance from Mainland                0\n",
       "Avg Temperature                       0\n",
       "Avg Humidity                          0\n",
       "Growth Patterns                       0\n",
       "Visual Anomalies                      0\n",
       "pH Change                             0\n",
       "Terrain Type_Coastal                  0\n",
       "Terrain Type_Desert                   0\n",
       "Terrain Type_Forested                 0\n",
       "Terrain Type_Mountainous              0\n",
       "Terrain Type_Plains                   0\n",
       "Terrain Type_Swamp                    0\n",
       "Terrain Type_Tundra                   0\n",
       "Terrain Type_Urban settlements        0\n",
       "Vegetation Type_Coniferous Forests    0\n",
       "Vegetation Type_Cultivated Land       0\n",
       "Vegetation Type_Deciduous Forests     0\n",
       "Vegetation Type_Desert Vegetation     0\n",
       "Vegetation Type_Grasslands            0\n",
       "Vegetation Type_Mangroves             0\n",
       "Vegetation Type_Mixed Forests         0\n",
       "Vegetation Type_Tundra Vegetation     0\n",
       "Flora and Fauna Changes_Decreasing    0\n",
       "Flora and Fauna Changes_Increasing    0\n",
       "Flora and Fauna Changes_No Effect     0\n",
       "Unexplain Sounds Count_High           0\n",
       "Unexplain Sounds Count_Low            0\n",
       "Unexplain Sounds Count_Moderate       0\n",
       "dtype: int64"
      ]
     },
     "execution_count": 72,
     "metadata": {},
     "output_type": "execute_result"
    }
   ],
   "source": [
    "df_test.isnull().sum()"
   ]
  },
  {
   "cell_type": "code",
   "execution_count": 73,
   "id": "e85206f3-8169-429e-9a8a-81ac24fbb1e2",
   "metadata": {},
   "outputs": [],
   "source": [
    "X_train = ptf.fit_transform(X_train)"
   ]
  },
  {
   "cell_type": "markdown",
   "id": "0933d45b-4f93-4d65-9658-3e723b9a6129",
   "metadata": {},
   "source": [
    " "
   ]
  },
  {
   "cell_type": "markdown",
   "id": "4b2a80f0-3551-47d3-b440-83d13ec1adfb",
   "metadata": {},
   "source": [
    "# **Random forest testing data**"
   ]
  },
  {
   "cell_type": "code",
   "execution_count": 80,
   "id": "2f005d92-adfe-4cf6-a1f2-f416198a1df1",
   "metadata": {},
   "outputs": [],
   "source": [
    "rfc = RandomForestClassifier(n_estimators=400, criterion='log_loss')"
   ]
  },
  {
   "cell_type": "code",
   "execution_count": 81,
   "id": "de5487e7-9e12-451e-a71b-9bbeb23c91b1",
   "metadata": {},
   "outputs": [],
   "source": [
    "rfc.fit(X_train, y_train)\n",
    "df_test_pred = rfc.predict(X_test)"
   ]
  },
  {
   "cell_type": "code",
   "execution_count": 82,
   "id": "29c64052-a9a9-4192-9671-ab3bcf19380c",
   "metadata": {},
   "outputs": [
    {
     "name": "stdout",
     "output_type": "stream",
     "text": [
      "              precision    recall  f1-score   support\n",
      "\n",
      "     Banshee       0.79      0.58      0.67        19\n",
      "  Chupacabra       0.87      0.77      0.82        35\n",
      "Jersey Devil       0.59      0.62      0.61        16\n",
      "     Mothman       0.46      0.76      0.58        17\n",
      "       Ropen       0.63      0.61      0.62        28\n",
      "   Sasquatch       0.83      0.76      0.80        51\n",
      " Thunderbird       0.56      0.94      0.70        16\n",
      "     Wendigo       1.00      0.80      0.89        30\n",
      "        Yeti       0.93      0.84      0.89        32\n",
      "\n",
      "    accuracy                           0.75       244\n",
      "   macro avg       0.74      0.74      0.73       244\n",
      "weighted avg       0.78      0.75      0.76       244\n",
      "\n"
     ]
    }
   ],
   "source": [
    "print(classification_report(df_test_pred, y_test))"
   ]
  },
  {
   "cell_type": "markdown",
   "id": "1e20c607-151a-4321-82d9-5981a4f7699f",
   "metadata": {},
   "source": [
    "# **let's train the model on the hole training data and test it with the df_test data**"
   ]
  },
  {
   "cell_type": "code",
   "execution_count": 83,
   "id": "97ddea26-5252-437f-9144-7a319d8d0483",
   "metadata": {},
   "outputs": [],
   "source": [
    "X = df_train.drop('Type', axis=1)\n",
    "y = df_train['Type']\n",
    "rfc.fit(X, y)\n",
    "df_test_pred = rfc.predict(df_test)"
   ]
  },
  {
   "cell_type": "code",
   "execution_count": 84,
   "id": "e698cbcc-aa08-44f8-bf17-0726cc143df2",
   "metadata": {},
   "outputs": [],
   "source": [
    "df_submission['Type'] = df_test_pred"
   ]
  },
  {
   "cell_type": "code",
   "execution_count": 85,
   "id": "6b07644e-8c09-464b-a12b-7ae87a0dd54d",
   "metadata": {},
   "outputs": [],
   "source": [
    "df_submission.to_csv('KL1_predict.csv', index=False)"
   ]
  },
  {
   "cell_type": "code",
   "execution_count": 86,
   "id": "a0708d42-e0cb-4376-990e-271c506d4770",
   "metadata": {},
   "outputs": [
    {
     "data": {
      "text/html": [
       "<div>\n",
       "<style scoped>\n",
       "    .dataframe tbody tr th:only-of-type {\n",
       "        vertical-align: middle;\n",
       "    }\n",
       "\n",
       "    .dataframe tbody tr th {\n",
       "        vertical-align: top;\n",
       "    }\n",
       "\n",
       "    .dataframe thead th {\n",
       "        text-align: right;\n",
       "    }\n",
       "</style>\n",
       "<table border=\"1\" class=\"dataframe\">\n",
       "  <thead>\n",
       "    <tr style=\"text-align: right;\">\n",
       "      <th></th>\n",
       "      <th>IslandID</th>\n",
       "      <th>Type</th>\n",
       "    </tr>\n",
       "  </thead>\n",
       "  <tbody>\n",
       "    <tr>\n",
       "      <th>0</th>\n",
       "      <td>482</td>\n",
       "      <td>Sasquatch</td>\n",
       "    </tr>\n",
       "    <tr>\n",
       "      <th>1</th>\n",
       "      <td>1507</td>\n",
       "      <td>Banshee</td>\n",
       "    </tr>\n",
       "    <tr>\n",
       "      <th>2</th>\n",
       "      <td>950</td>\n",
       "      <td>Yeti</td>\n",
       "    </tr>\n",
       "    <tr>\n",
       "      <th>3</th>\n",
       "      <td>1005</td>\n",
       "      <td>Wendigo</td>\n",
       "    </tr>\n",
       "    <tr>\n",
       "      <th>4</th>\n",
       "      <td>705</td>\n",
       "      <td>Wendigo</td>\n",
       "    </tr>\n",
       "  </tbody>\n",
       "</table>\n",
       "</div>"
      ],
      "text/plain": [
       "   IslandID       Type\n",
       "0       482  Sasquatch\n",
       "1      1507    Banshee\n",
       "2       950       Yeti\n",
       "3      1005    Wendigo\n",
       "4       705    Wendigo"
      ]
     },
     "execution_count": 86,
     "metadata": {},
     "output_type": "execute_result"
    }
   ],
   "source": [
    "df_submission.head()"
   ]
  },
  {
   "cell_type": "code",
   "execution_count": null,
   "id": "d7c65d22-afc1-4411-9de2-096c44858999",
   "metadata": {},
   "outputs": [],
   "source": []
  },
  {
   "cell_type": "code",
   "execution_count": null,
   "id": "a078fab6-453d-4155-acfc-ea04f3229098",
   "metadata": {},
   "outputs": [],
   "source": []
  }
 ],
 "metadata": {
  "kernelspec": {
   "display_name": "Python 3 (ipykernel)",
   "language": "python",
   "name": "python3"
  },
  "language_info": {
   "codemirror_mode": {
    "name": "ipython",
    "version": 3
   },
   "file_extension": ".py",
   "mimetype": "text/x-python",
   "name": "python",
   "nbconvert_exporter": "python",
   "pygments_lexer": "ipython3",
   "version": "3.11.7"
  }
 },
 "nbformat": 4,
 "nbformat_minor": 5
}
